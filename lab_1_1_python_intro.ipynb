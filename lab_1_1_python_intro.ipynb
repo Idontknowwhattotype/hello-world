{
  "cells": [
    {
      "cell_type": "markdown",
      "metadata": {
        "id": "view-in-github",
        "colab_type": "text"
      },
      "source": [
        "<a href=\"https://colab.research.google.com/github/Idontknowwhattotype/hello-world/blob/master/lab_1_1_python_intro.ipynb\" target=\"_parent\"><img src=\"https://colab.research.google.com/assets/colab-badge.svg\" alt=\"Open In Colab\"/></a>"
      ]
    },
    {
      "cell_type": "markdown",
      "metadata": {
        "id": "MUZG3QM0YZw9"
      },
      "source": [
        "# LAB 1-1\n",
        "\n",
        "This lab serves as a sanity check to ensure we have a baseline mastery of the fundamentals of Python.\n",
        "\n",
        "\n",
        "**Submission**: Please do see the section entitled `TODO: PRACTICE EXERCISES` at the end for the actual exercises that you'll be submitting and how.\n"
      ]
    },
    {
      "cell_type": "markdown",
      "metadata": {
        "id": "Iz6nNy16YZw_"
      },
      "source": [
        "\n",
        "## Google Colaboratory (Google CoLab)\n",
        "\n",
        "\n",
        "[Jupyter notebooks](https://jupyter.org/) are a standard tool for data scientists. They allow you to create and share documents that contain \"cells\" with runnable Python code as well as equations, visualizations, and text. [Google Colab](http://colab.research.google.com/) gives you the same ability online in a collaborative environment with all the resources of a powerful virtual machine underlying the notebook execution.\n",
        "\n",
        "Here is [an overview of Google Colaboratory (Google CoLab) features](https://colab.research.google.com/notebooks/basic_features_overview.ipynb) and a brief guide for [using BigQuery through Colaboratory](https://colab.research.google.com/notebooks/bigquery.ipynb). Before proceeding, make sure you have read and understood these support documents. To open a new notebook in [Colab](http://colab.research.google.com/), you can go to *File \\> Upload notebook* and choose the file either from your computer or from Google Drive. You can also make a copy of an existing Colab noteboook by going to *File \\> Save a Copy in Drive ...* . Colab notebooks can be saved just like any other file to your own Google Drive account.\n",
        "\n",
        "\n",
        "\n",
        "# INTRODUCTION TO PYTHON\n",
        "\n",
        "Welcome to our introduction to the Python Programming Language using our first iPython Notebook on Google CoLab!\n",
        "\n",
        "# Variables\n",
        "\n",
        "We use variables to represent locations in computer memory where we store data for our program. To initialize variables in a Python program, you simply type the variable name followed by an equals sign and then some expression that evaluates to the variable's initial value. Here are some examples:"
      ]
    },
    {
      "cell_type": "code",
      "execution_count": 3,
      "metadata": {
        "colab": {
          "base_uri": "https://localhost:8080/",
          "height": 0
        },
        "id": "6wqMrYXqYZxA",
        "outputId": "64aaed3b-ed92-48ca-b0eb-211cea29cb64"
      },
      "outputs": [
        {
          "output_type": "execute_result",
          "data": {
            "text/plain": [
              "(1.1054688698462857e+18, True, 'Computer Science 1')"
            ]
          },
          "metadata": {},
          "execution_count": 3
        }
      ],
      "source": [
        "x = 2\n",
        "mass = 12.3\n",
        "speed_of_light = 299792458\n",
        "energy = mass * (speed_of_light ** 2)\n",
        "raining = True\n",
        "course_csc1500 = \"Computer Science 1\"\n",
        "energy, raining, course_csc1500"
      ]
    },
    {
      "cell_type": "markdown",
      "metadata": {
        "id": "xfEomqQzYZxB"
      },
      "source": [
        "Variable names must start with a letter or an underscore, followed by any sequence of letters, digits and underscores. Variables are case-sensitive, so the variables `salary` and `Salary` are different. Variable names cannot include spaces.\n",
        "\n",
        "The instructions above are called *assignment statements* since they assign a value to a variable. All assignment statements have a single variable followed by an equals sign followed by either a data value or an computation (expression) contains variables and/or data values. For numerical computations, here are the operators you can use:"
      ]
    },
    {
      "cell_type": "code",
      "execution_count": 1,
      "metadata": {
        "colab": {
          "base_uri": "https://localhost:8080/",
          "height": 106
        },
        "id": "MbtCsq9fYZxB",
        "outputId": "492496fd-15fc-4521-aac2-d778990ecd57"
      },
      "outputs": [
        {
          "output_type": "error",
          "ename": "SyntaxError",
          "evalue": "invalid syntax (<ipython-input-1-abb8fc41142e>, line 5)",
          "traceback": [
            "\u001b[0;36m  File \u001b[0;32m\"<ipython-input-1-abb8fc41142e>\"\u001b[0;36m, line \u001b[0;32m5\u001b[0m\n\u001b[0;31m    //      truncated division\u001b[0m\n\u001b[0m    ^\u001b[0m\n\u001b[0;31mSyntaxError\u001b[0m\u001b[0;31m:\u001b[0m invalid syntax\n"
          ]
        }
      ],
      "source": [
        "+   addition\n",
        "-   subtraction\n",
        "*   multiplication\n",
        "/   division\n",
        "//      truncated division\n",
        "%   remainder (think: modulo)\n",
        "**  exponentiation"
      ]
    },
    {
      "cell_type": "markdown",
      "metadata": {
        "id": "KkePXHemYZxB"
      },
      "source": [
        "NB: In 2.7,  `/` behaves like `//`\n",
        "\n",
        "When you type expressions with more than one arithmetic operator, they are evaluated based on the usual mathematical *precedence*, with exponentiation performed first, then multiplication, division and remainder next, and finally addition and subtraction last. If there is more than one operator of the same type (e.g. addition and subtraction), they are evaluated left to right. If you want to force a lower precedence operation to be performed first, use parentheses like you would in ordinary mathematics. For example, here is a Python statement that computes the total amount due for a loan using simple interest given the principal (amount borrowed), interest rate per month and time of loan in months:"
      ]
    },
    {
      "cell_type": "code",
      "execution_count": 2,
      "metadata": {
        "id": "d69vggxJYZxB",
        "colab": {
          "base_uri": "https://localhost:8080/",
          "height": 141
        },
        "outputId": "d7e116c4-f056-4c7f-e2c7-87e60a4eec62"
      },
      "outputs": [
        {
          "output_type": "error",
          "ename": "NameError",
          "evalue": "name 'principal' is not defined",
          "traceback": [
            "\u001b[0;31m---------------------------------------------------------------------------\u001b[0m",
            "\u001b[0;31mNameError\u001b[0m                                 Traceback (most recent call last)",
            "\u001b[0;32m<ipython-input-2-0dbfa7f306da>\u001b[0m in \u001b[0;36m<cell line: 1>\u001b[0;34m()\u001b[0m\n\u001b[0;32m----> 1\u001b[0;31m \u001b[0mtotal_amount\u001b[0m \u001b[0;34m=\u001b[0m \u001b[0mprincipal\u001b[0m \u001b[0;34m*\u001b[0m \u001b[0;34m(\u001b[0m\u001b[0;36m1\u001b[0m \u001b[0;34m+\u001b[0m \u001b[0mrate\u001b[0m \u001b[0;34m*\u001b[0m \u001b[0mtime\u001b[0m\u001b[0;34m)\u001b[0m\u001b[0;34m\u001b[0m\u001b[0;34m\u001b[0m\u001b[0m\n\u001b[0m",
            "\u001b[0;31mNameError\u001b[0m: name 'principal' is not defined"
          ]
        }
      ],
      "source": [
        "total_amount = principal * (1 + rate * time)"
      ]
    },
    {
      "cell_type": "markdown",
      "metadata": {
        "id": "6VI3noP0YZxC"
      },
      "source": [
        "# Input and Output\n",
        "\n",
        "If you want to input numerical data into your program from the keyboard, you can use the `input` function:"
      ]
    },
    {
      "cell_type": "code",
      "execution_count": 4,
      "metadata": {
        "colab": {
          "base_uri": "https://localhost:8080/",
          "height": 0
        },
        "id": "b0BMZ7BDYZxC",
        "outputId": "c586bbdb-b9ef-4f97-c7e7-77fdb65d6509"
      },
      "outputs": [
        {
          "name": "stdout",
          "output_type": "stream",
          "text": [
            "Input the temperature in Fahrenheit: 12\n"
          ]
        }
      ],
      "source": [
        "tempF = int(input(\"Input the temperature in Fahrenheit: \"))"
      ]
    },
    {
      "cell_type": "markdown",
      "metadata": {
        "id": "KXbnUADgYZxD"
      },
      "source": [
        "The `input` function requires a string that is output to prompt the user with an instruction on what input is required. The `int()` typecast converst the input string to integer. The numerical value the user types in is then stored in the variable `tempF`.\n",
        "\n",
        "NB: In 2.7, you don't need the `int()`\n",
        "\n",
        "To output the value of a variable or expression, you simply use the `print` function. Here are three examples:"
      ]
    },
    {
      "cell_type": "code",
      "execution_count": 5,
      "metadata": {
        "colab": {
          "base_uri": "https://localhost:8080/",
          "height": 0
        },
        "id": "SuktB0ehYZxD",
        "outputId": "39957057-c96d-40aa-bfcf-d6c1364151c7"
      },
      "outputs": [
        {
          "output_type": "stream",
          "name": "stdout",
          "text": [
            "The temperature in Fahrenheit: \n",
            "12\n",
            "The temperature in Celsius is  -11.11111111111111\n",
            "12.3  *  299792458  ** 2 =  1.1054688698462857e+18\n"
          ]
        }
      ],
      "source": [
        "print(\"The temperature in Fahrenheit: \")\n",
        "print(tempF)\n",
        "print(\"The temperature in Celsius is \", (5.0/9.0)*(tempF - 32.0))\n",
        "print(mass, \" * \", speed_of_light, \" ** 2 = \", energy)"
      ]
    },
    {
      "cell_type": "markdown",
      "metadata": {
        "id": "OJY2m6b-YZxD"
      },
      "source": [
        "NB: In 2.7, you don't need the parentheses after a function name/identifier\n",
        "\n",
        "In the first two examples, there is only one item being printed per line. In the last two examples, more than one item is printed on the same line.\n",
        "\n",
        "# Writing Python Programs\n",
        "\n",
        "A simple Python program has the following format:"
      ]
    },
    {
      "cell_type": "code",
      "execution_count": 6,
      "metadata": {
        "id": "NREQ6lyKYZxE",
        "colab": {
          "base_uri": "https://localhost:8080/",
          "height": 106
        },
        "outputId": "2f7891ef-d31d-46f5-9237-14282fd449f5"
      },
      "outputs": [
        {
          "output_type": "error",
          "ename": "SyntaxError",
          "evalue": "invalid syntax (<ipython-input-6-7fd3a2055722>, line 2)",
          "traceback": [
            "\u001b[0;36m  File \u001b[0;32m\"<ipython-input-6-7fd3a2055722>\"\u001b[0;36m, line \u001b[0;32m2\u001b[0m\n\u001b[0;31m    ---------------------------\u001b[0m\n\u001b[0m                               ^\u001b[0m\n\u001b[0;31mSyntaxError\u001b[0m\u001b[0;31m:\u001b[0m invalid syntax\n"
          ]
        }
      ],
      "source": [
        "def main():\n",
        "    ---------------------------\n",
        "    Python instructions go here\n",
        "    ---------------------------\n",
        "        <-- blank line here\n",
        "main()"
      ]
    },
    {
      "cell_type": "markdown",
      "metadata": {
        "id": "lpTdbNKJYZxE"
      },
      "source": [
        "The instructions of the program are stored in the function definition (`def`) named `main`. The final instruction runs the `main` function it is defined. Here is an example of a short program that converts an input temperature in Fahrenheit to Celsius:"
      ]
    },
    {
      "cell_type": "code",
      "execution_count": 7,
      "metadata": {
        "id": "ZU3iK1gfYZxE",
        "colab": {
          "base_uri": "https://localhost:8080/",
          "height": 0
        },
        "outputId": "c883928b-cc2d-4b68-edbd-8b43261a0acb"
      },
      "outputs": [
        {
          "output_type": "stream",
          "name": "stdout",
          "text": [
            "Input the temperature in Fahrenheit: 12\n",
            "12  F =  -11.11111111111111  C\n"
          ]
        }
      ],
      "source": [
        "def main():\n",
        "       tempF = int(input(\"Input the temperature in Fahrenheit: \"))\n",
        "       tempC = (5.0/9.0) * (tempF - 32.0)\n",
        "       print(tempF, \" F = \", tempC, \" C\")\n",
        "main()"
      ]
    },
    {
      "cell_type": "markdown",
      "metadata": {
        "id": "XZ4p4hE5YZxE"
      },
      "source": [
        "Note that the instructions in the `main` function definition are all indented. We suggest you use one tab to line up all instructions in `main`.\n",
        "\n",
        "# Loops\n",
        "\n",
        "If you want to repeat instructions a specific number of times, you can use the `for` instruction:"
      ]
    },
    {
      "cell_type": "code",
      "execution_count": 8,
      "metadata": {
        "colab": {
          "base_uri": "https://localhost:8080/",
          "height": 0
        },
        "id": "YSFyPnzAYZxE",
        "outputId": "77d8755b-307a-4419-8724-2cb0b3a01d9e"
      },
      "outputs": [
        {
          "output_type": "stream",
          "name": "stdout",
          "text": [
            "0\n",
            "1\n",
            "2\n",
            "3\n",
            "4\n",
            "5\n",
            "6\n",
            "7\n",
            "8\n",
            "9\n"
          ]
        }
      ],
      "source": [
        "    for i in range(10):\n",
        "        print(i)\n"
      ]
    },
    {
      "cell_type": "markdown",
      "metadata": {
        "id": "iDnQn8N0YZxF"
      },
      "source": [
        "The loop above sets i to values in the range from 0 up to *but not including* 10. Another way to look at it is that it is a loop that repeats exactly 10 times. Here is the output:"
      ]
    },
    {
      "cell_type": "code",
      "execution_count": 9,
      "metadata": {
        "id": "SccCYbf4YZxF",
        "colab": {
          "base_uri": "https://localhost:8080/",
          "height": 0
        },
        "outputId": "ae47d2d4-e6c7-4c3f-b88f-352c95ce9b85"
      },
      "outputs": [
        {
          "output_type": "execute_result",
          "data": {
            "text/plain": [
              "9"
            ]
          },
          "metadata": {},
          "execution_count": 9
        }
      ],
      "source": [
        "0\n",
        "1\n",
        "2\n",
        "3\n",
        "4\n",
        "5\n",
        "6\n",
        "7\n",
        "8\n",
        "9"
      ]
    },
    {
      "cell_type": "markdown",
      "metadata": {
        "id": "SCs9rYtRYZxF"
      },
      "source": [
        "Here is a slightly different version. Notice the extra comma at the end of the `print` statement:"
      ]
    },
    {
      "cell_type": "code",
      "execution_count": 10,
      "metadata": {
        "colab": {
          "base_uri": "https://localhost:8080/",
          "height": 0
        },
        "id": "EAHUY0NzYZxF",
        "outputId": "72c14785-7d91-4ea4-cdd8-724efae8f9d8"
      },
      "outputs": [
        {
          "output_type": "stream",
          "name": "stdout",
          "text": [
            "0 1 2 3 4 5 6 7 8 9 "
          ]
        }
      ],
      "source": [
        "    for i in range(10):\n",
        "        # In 2.7, you could do this: print i,\n",
        "        print(i,end=' ')"
      ]
    },
    {
      "cell_type": "markdown",
      "metadata": {
        "id": "YghKd-CdYZxF"
      },
      "source": [
        "Since the `print` statement has a comma, the cursor stays on the same line to print the next item. Here is the new output:"
      ]
    },
    {
      "cell_type": "code",
      "execution_count": 11,
      "metadata": {
        "id": "VOi44dzwYZxF",
        "colab": {
          "base_uri": "https://localhost:8080/",
          "height": 106
        },
        "outputId": "96e03dc9-4630-4e9c-842c-4b26e6d37d2a"
      },
      "outputs": [
        {
          "output_type": "error",
          "ename": "SyntaxError",
          "evalue": "invalid syntax (<ipython-input-11-87da21c6a482>, line 1)",
          "traceback": [
            "\u001b[0;36m  File \u001b[0;32m\"<ipython-input-11-87da21c6a482>\"\u001b[0;36m, line \u001b[0;32m1\u001b[0m\n\u001b[0;31m    0 1 2 3 4 5 6 7 8 9\u001b[0m\n\u001b[0m      ^\u001b[0m\n\u001b[0;31mSyntaxError\u001b[0m\u001b[0;31m:\u001b[0m invalid syntax\n"
          ]
        }
      ],
      "source": [
        "0 1 2 3 4 5 6 7 8 9"
      ]
    },
    {
      "cell_type": "markdown",
      "metadata": {
        "id": "6GFOpU0vYZxG"
      },
      "source": [
        "Notice that the instruction that is repeated is indented below the `for` instruction. A loop can repeat more than one instruction, as a group, as shown below:"
      ]
    },
    {
      "cell_type": "code",
      "execution_count": 12,
      "metadata": {
        "colab": {
          "base_uri": "https://localhost:8080/",
          "height": 0
        },
        "id": "GLoHWOvaYZxG",
        "outputId": "f892d775-bc3c-4dbe-894d-bb72a26bd55f"
      },
      "outputs": [
        {
          "output_type": "stream",
          "name": "stdout",
          "text": [
            "0 \t 0 \t 0\n",
            "1 \t 1 \t 1\n",
            "2 \t 4 \t 8\n",
            "3 \t 9 \t 27\n",
            "4 \t 16 \t 64\n",
            "5 \t 25 \t 125\n",
            "6 \t 36 \t 216\n",
            "7 \t 49 \t 343\n",
            "8 \t 64 \t 512\n",
            "9 \t 81 \t 729\n"
          ]
        }
      ],
      "source": [
        "    for i in range(10):\n",
        "        print(i, \"\\t\",end=' ')\n",
        "        print(i**2, \"\\t\",end=' ')\n",
        "        print(i**3)\n"
      ]
    },
    {
      "cell_type": "markdown",
      "metadata": {
        "id": "9rchMPY0YZxG"
      },
      "source": [
        "The loop consists of a block or set of 3 instructions that are repeated 10 times. This loop prints out a table of the squares and cubes of the integers 0 through 9. The \"\\\\t\" string is a special symbol for one press of the tab key on the keyboard. The extra comma at the end of the first two `print` statements keeps the cursor on the same line until we get to the third `print` statement. The instruction(s) that repeat in a loop is called the *loop body*. Here is the output:"
      ]
    },
    {
      "cell_type": "code",
      "execution_count": 13,
      "metadata": {
        "id": "InCcM8nQYZxH",
        "colab": {
          "base_uri": "https://localhost:8080/",
          "height": 106
        },
        "outputId": "9d38bbb3-da5a-4bea-fa6e-14c27832183c"
      },
      "outputs": [
        {
          "output_type": "error",
          "ename": "SyntaxError",
          "evalue": "invalid syntax (<ipython-input-13-c78e31be2f6e>, line 1)",
          "traceback": [
            "\u001b[0;36m  File \u001b[0;32m\"<ipython-input-13-c78e31be2f6e>\"\u001b[0;36m, line \u001b[0;32m1\u001b[0m\n\u001b[0;31m    0   0   0\u001b[0m\n\u001b[0m        ^\u001b[0m\n\u001b[0;31mSyntaxError\u001b[0m\u001b[0;31m:\u001b[0m invalid syntax\n"
          ]
        }
      ],
      "source": [
        "0   0   0\n",
        "1   1   1\n",
        "2   4   8\n",
        "3   9   27\n",
        "4   16  64\n",
        "5   25  125\n",
        "6   36  216\n",
        "7   49  343\n",
        "8   64  512\n",
        "9   81  729"
      ]
    },
    {
      "cell_type": "markdown",
      "metadata": {
        "id": "pLiBduVfYZxH"
      },
      "source": [
        "Sometimes you might have a computation that you have to repeat, but you don't know specifically how many times you must repeat the computation. You can use the `while` loop to handle this. Based on the condition you give, the loop will repeat as long as the condition holds. For example, let's say you want to print your table above until the cube value exceeds 500. Here's how we would write this:"
      ]
    },
    {
      "cell_type": "code",
      "execution_count": 14,
      "metadata": {
        "colab": {
          "base_uri": "https://localhost:8080/",
          "height": 0
        },
        "id": "Pu4_1rMsYZxH",
        "outputId": "a6e839f7-e321-4e83-f2ac-5e2dfb5673ee"
      },
      "outputs": [
        {
          "output_type": "stream",
          "name": "stdout",
          "text": [
            "0 \t 0 \t 0\n",
            "1 \t 1 \t 1\n",
            "2 \t 4 \t 8\n",
            "3 \t 9 \t 27\n",
            "4 \t 16 \t 64\n",
            "5 \t 25 \t 125\n",
            "6 \t 36 \t 216\n",
            "7 \t 49 \t 343\n"
          ]
        }
      ],
      "source": [
        "    i = 0\n",
        "    while i**3 < 500:\n",
        "        print(i, \"\\t\",end=' ')\n",
        "        print(i**2, \"\\t\",end=' ')\n",
        "        print(i**3)\n",
        "        i = i + 1\n"
      ]
    },
    {
      "cell_type": "markdown",
      "metadata": {
        "id": "egZdCj1BYZxH"
      },
      "source": [
        "Note that we have to initialize `i` explicitly here before the loop begins, and we have to add 1 to `i` before we start our next iteration of the loop. (The `for` loop you saw above does this automatically, but the `while` loop has more flexibility and can run an arbitrary number of times.) Here is the output this time:"
      ]
    },
    {
      "cell_type": "code",
      "execution_count": 15,
      "metadata": {
        "id": "r_l4LsL5YZxH",
        "colab": {
          "base_uri": "https://localhost:8080/",
          "height": 106
        },
        "outputId": "6d2b7c97-e763-4dac-98ae-03a7909eda11"
      },
      "outputs": [
        {
          "output_type": "error",
          "ename": "SyntaxError",
          "evalue": "invalid syntax (<ipython-input-15-39fa66c55c7c>, line 1)",
          "traceback": [
            "\u001b[0;36m  File \u001b[0;32m\"<ipython-input-15-39fa66c55c7c>\"\u001b[0;36m, line \u001b[0;32m1\u001b[0m\n\u001b[0;31m    0   0   0\u001b[0m\n\u001b[0m        ^\u001b[0m\n\u001b[0;31mSyntaxError\u001b[0m\u001b[0;31m:\u001b[0m invalid syntax\n"
          ]
        }
      ],
      "source": [
        "0   0   0\n",
        "1   1   1\n",
        "2   4   8\n",
        "3   9   27\n",
        "4   16  64\n",
        "5   25  125\n",
        "6   36  216\n",
        "7   49  343"
      ]
    },
    {
      "cell_type": "markdown",
      "metadata": {
        "id": "15WhavE7YZxH"
      },
      "source": [
        "Here are the operators you can use to compare one value to another for the condition of a `while` loop:"
      ]
    },
    {
      "cell_type": "code",
      "execution_count": 16,
      "metadata": {
        "id": "5gdGOje1YZxH",
        "colab": {
          "base_uri": "https://localhost:8080/",
          "height": 106
        },
        "outputId": "041b36b4-a652-4c81-fd6a-6c7f4bae86e8"
      },
      "outputs": [
        {
          "output_type": "error",
          "ename": "SyntaxError",
          "evalue": "invalid syntax (<ipython-input-16-70f04bc1718a>, line 1)",
          "traceback": [
            "\u001b[0;36m  File \u001b[0;32m\"<ipython-input-16-70f04bc1718a>\"\u001b[0;36m, line \u001b[0;32m1\u001b[0m\n\u001b[0;31m    <   is less than\u001b[0m\n\u001b[0m    ^\u001b[0m\n\u001b[0;31mSyntaxError\u001b[0m\u001b[0;31m:\u001b[0m invalid syntax\n"
          ]
        }
      ],
      "source": [
        "<   is less than\n",
        ">   is greater than\n",
        "==  is equal to\n",
        "<=  is less than or equal to\n",
        ">=  is greater than or equal to\n",
        "!=  is not equal to"
      ]
    },
    {
      "cell_type": "markdown",
      "metadata": {
        "id": "kk3niC8SYZxI"
      },
      "source": [
        "The operators above are called *relational operators* since they allow you to determine the relation of one value to another.\n",
        "\n",
        "As a final example, here is a Python program to compute the GCD of two integers:"
      ]
    },
    {
      "cell_type": "code",
      "execution_count": 17,
      "metadata": {
        "colab": {
          "base_uri": "https://localhost:8080/",
          "height": 0
        },
        "id": "ObqHImG-YZxI",
        "outputId": "0ab7fa96-9fc8-41be-a28a-82fd532a594b"
      },
      "outputs": [
        {
          "output_type": "stream",
          "name": "stdout",
          "text": [
            "Input the first integer: 1\n",
            "Input the second integer: 2\n",
            "The GCD of  1  and  2  is  1\n"
          ]
        }
      ],
      "source": [
        "    # gcd.py\n",
        "    # Program to compute GCD\n",
        "\n",
        "    def main():\n",
        "        x = int(input(\"Input the first integer: \"))\n",
        "        y = int(input(\"Input the second integer: \"))\n",
        "        print(\"The GCD of \", x, \" and \", y, \" is \",end=' ')\n",
        "        while y != 0:\n",
        "            x_prime = y\n",
        "            y_prime = x % y\n",
        "            x = x_prime\n",
        "            y = y_prime\n",
        "        print(x)\n",
        "\n",
        "    main()"
      ]
    },
    {
      "cell_type": "markdown",
      "metadata": {
        "id": "o5rM4zlLYZxI"
      },
      "source": [
        "The program asks for values for `x` and `y`, then repeats the set of 4 instructions of the `while` loop while y is not equal to 0, and finally outputs the final value of `x` as the answer for the GCD calculation. The symbol `#` represents a *comment* which just a message for us to explain the purpose of the program. The text after the `#` on each line is ignored by the Python interpreter.\n",
        "\n",
        "# Dictionaries\n",
        "\n",
        "We can setup dictionaries as key:value pairs of values. A dictionary is an unordered collection of data values that is used to store data values like a map. We can create a dictionary as so:"
      ]
    },
    {
      "cell_type": "code",
      "execution_count": 18,
      "metadata": {
        "id": "Of23_Z6gYZxI"
      },
      "outputs": [],
      "source": [
        "    d = {1: 10, 2: 20, 3: 30, 4: 40, 5: 50, 6: 60}\n"
      ]
    },
    {
      "cell_type": "markdown",
      "metadata": {
        "id": "fNvPCiqXYZxI"
      },
      "source": [
        "We can then check if a particular key is in the dictionary as so:"
      ]
    },
    {
      "cell_type": "code",
      "execution_count": 19,
      "metadata": {
        "colab": {
          "base_uri": "https://localhost:8080/",
          "height": 0
        },
        "id": "5_fHsiBWYZxI",
        "outputId": "b13be222-59dc-42fa-d6bb-fbdb521d3b13"
      },
      "outputs": [
        {
          "output_type": "stream",
          "name": "stdout",
          "text": [
            "3 is in d!\n"
          ]
        }
      ],
      "source": [
        "    if 3 in d:\n",
        "      print(\"3 is in d!\")\n"
      ]
    },
    {
      "cell_type": "markdown",
      "metadata": {
        "id": "JGmEVBhbYZxI"
      },
      "source": [
        "The key in a dictionary can be any immutable type. We can thus declare more complex dictionaries like:"
      ]
    },
    {
      "cell_type": "code",
      "execution_count": 20,
      "metadata": {
        "colab": {
          "base_uri": "https://localhost:8080/",
          "height": 0
        },
        "id": "h3QXJv3MYZxJ",
        "outputId": "1e5dbbfe-9e23-4b23-9f5c-885ba0ac2b1e"
      },
      "outputs": [
        {
          "output_type": "stream",
          "name": "stdout",
          "text": [
            "x -> 10\n",
            "y -> 20\n",
            "z -> 30\n"
          ]
        }
      ],
      "source": [
        "    d = {'x': 10, 'y': 20, 'z': 30}\n",
        "    for dict_key, dict_value in d.items():\n",
        "        print(dict_key,'->',dict_value)\n"
      ]
    },
    {
      "cell_type": "markdown",
      "metadata": {
        "id": "hwKNhaWiYZxJ"
      },
      "source": [
        "We can also pull just the keys and sort the keys and then use the key to get the value, as follows:"
      ]
    },
    {
      "cell_type": "code",
      "execution_count": 21,
      "metadata": {
        "colab": {
          "base_uri": "https://localhost:8080/",
          "height": 0
        },
        "id": "l_BqVzPfYZxJ",
        "outputId": "0c60e7b1-f968-45d7-bd73-74ffd70f2dd1"
      },
      "outputs": [
        {
          "output_type": "stream",
          "name": "stdout",
          "text": [
            "black: #000000\n",
            "green: #008000\n",
            "red: #FF0000\n",
            "white: #FFFFFF\n"
          ]
        }
      ],
      "source": [
        "    color_dict = {'red':'#FF0000',\n",
        "                  'green':'#008000',\n",
        "                  'black':'#000000',\n",
        "                  'white':'#FFFFFF'\n",
        "                 }\n",
        "\n",
        "    for key in sorted(color_dict):\n",
        "        print(\"%s: %s\" % (key, color_dict[key]))"
      ]
    },
    {
      "cell_type": "markdown",
      "metadata": {
        "id": "LrHpqnUfYZxJ"
      },
      "source": [
        "In fact, we can also setup a dictionary of dictionaries and process it as follows to remove duplicate values:"
      ]
    },
    {
      "cell_type": "code",
      "execution_count": 22,
      "metadata": {
        "colab": {
          "base_uri": "https://localhost:8080/",
          "height": 0
        },
        "id": "BnuCxVnOYZxJ",
        "outputId": "6fa55fe0-3481-4094-eb11-07e4baa9af03"
      },
      "outputs": [
        {
          "output_type": "stream",
          "name": "stdout",
          "text": [
            "{'id1': {'name': ['Sara'], 'class': ['V'], 'subject_integration': ['english, math, science']}, 'id2': {'name': ['David'], 'class': ['V'], 'subject_integration': ['english, math, science']}, 'id4': {'name': ['Surya'], 'class': ['V'], 'subject_integration': ['english, math, science']}}\n"
          ]
        }
      ],
      "source": [
        "    student_data = {'id1':\n",
        "       {'name': ['Sara'],\n",
        "        'class': ['V'],\n",
        "        'subject_integration': ['english, math, science']\n",
        "       },\n",
        "     'id2':\n",
        "      {'name': ['David'],\n",
        "        'class': ['V'],\n",
        "        'subject_integration': ['english, math, science']\n",
        "       },\n",
        "     'id3':\n",
        "        {'name': ['Sara'],\n",
        "        'class': ['V'],\n",
        "        'subject_integration': ['english, math, science']\n",
        "       },\n",
        "     'id4':\n",
        "       {'name': ['Surya'],\n",
        "        'class': ['V'],\n",
        "        'subject_integration': ['english, math, science']\n",
        "       },\n",
        "    }\n",
        "\n",
        "    result = {}\n",
        "\n",
        "    for key,value in student_data.items():\n",
        "        if value not in result.values():\n",
        "            result[key] = value\n",
        "\n",
        "    print(result)"
      ]
    },
    {
      "cell_type": "markdown",
      "metadata": {
        "id": "AYfof4OoYZxJ"
      },
      "source": [
        "We can use the dictionary data structure for sparse datasets as you only need to represent the non-trival values here. Here is a link to [lists, tuples, and dictionaries](http://sthurlow.com/python/lesson06/) and one with some [Python Tricks](http://www.petercollingridge.co.uk/book/export/html/362).\n",
        "\n",
        "# List Comprehensions\n",
        "\n",
        "List comprehensions are a very powerful construct in Python that is based on the [set-builder\n",
        "notation](https://www.quora.com/Why-are-%E2%80%9Clist-comprehensions%E2%80%9D-called-%E2%80%9Clist-comprehensions%E2%80%9D-in-Python-They-seem-more-like-%E2%80%9Clist-builders%E2%80%9D) in mathematics, which are also called **set comprehensions** or **set abstractions**. Set comprehensions in mathematics can be used to build a set as below, for example:\n",
        "\n",
        "${𝑥 | 𝑥 \\in \\{1,\\dots,100\\} \\wedge 𝑥 \\mod 2 = 0}$\n",
        "\n",
        "This can be expressed in Python in a similar way:"
      ]
    },
    {
      "cell_type": "code",
      "execution_count": 23,
      "metadata": {
        "colab": {
          "base_uri": "https://localhost:8080/",
          "height": 0
        },
        "id": "v63ox1QWYZxJ",
        "outputId": "744befbf-9974-4a54-e98a-f21b30c63e05"
      },
      "outputs": [
        {
          "output_type": "execute_result",
          "data": {
            "text/plain": [
              "[2,\n",
              " 4,\n",
              " 6,\n",
              " 8,\n",
              " 10,\n",
              " 12,\n",
              " 14,\n",
              " 16,\n",
              " 18,\n",
              " 20,\n",
              " 22,\n",
              " 24,\n",
              " 26,\n",
              " 28,\n",
              " 30,\n",
              " 32,\n",
              " 34,\n",
              " 36,\n",
              " 38,\n",
              " 40,\n",
              " 42,\n",
              " 44,\n",
              " 46,\n",
              " 48,\n",
              " 50,\n",
              " 52,\n",
              " 54,\n",
              " 56,\n",
              " 58,\n",
              " 60,\n",
              " 62,\n",
              " 64,\n",
              " 66,\n",
              " 68,\n",
              " 70,\n",
              " 72,\n",
              " 74,\n",
              " 76,\n",
              " 78,\n",
              " 80,\n",
              " 82,\n",
              " 84,\n",
              " 86,\n",
              " 88,\n",
              " 90,\n",
              " 92,\n",
              " 94,\n",
              " 96,\n",
              " 98,\n",
              " 100]"
            ]
          },
          "metadata": {},
          "execution_count": 23
        }
      ],
      "source": [
        "[x for x in range(1,101) if x % 2 == 0]"
      ]
    },
    {
      "cell_type": "markdown",
      "metadata": {
        "id": "i9QUI-JgYZxK"
      },
      "source": [
        "This isn't limited to purely mathematical constructs, of course; e.g., consider this set-builder:\n",
        "\n",
        "`{ x: x is a whole number less than 20, x is even }`\n",
        "\n",
        "An equivalent set can be expressed in Python as:"
      ]
    },
    {
      "cell_type": "code",
      "execution_count": 24,
      "metadata": {
        "colab": {
          "base_uri": "https://localhost:8080/",
          "height": 0
        },
        "id": "rtWDu-IRYZxK",
        "outputId": "730f4c73-3a7f-4780-a659-64eccc97313c"
      },
      "outputs": [
        {
          "output_type": "execute_result",
          "data": {
            "text/plain": [
              "['A', 'E', 'A', 'I']"
            ]
          },
          "metadata": {},
          "execution_count": 24
        }
      ],
      "source": [
        "[x for x in 'MATHEMATICS' if x in ['A','E','I','O','U']]"
      ]
    },
    {
      "cell_type": "markdown",
      "metadata": {
        "id": "r0KKgytXYZxK"
      },
      "source": [
        "We can also use this approach to make dictionary comprehensions, for example. I'd also highly recommend looking at list comprehensions as shown in this link, [List Comprehensions visualized](http://treyhunner.com/2015/12/python-list-comprehensions-now-in-color/), as they're a very handy compact representation of `for-loop` constructs although we'll usually favour the old-fashioned, more familiar and readable approach for the most part.\n",
        "\n",
        "# Functions\n",
        "\n",
        "Try and predict what each of the following cells will output when you press the Play button in the following cells.\n",
        "\n",
        "**Nota Bene**: the `1, 2, 3` in the left part are the line numbers and not part of the Python code."
      ]
    },
    {
      "cell_type": "code",
      "execution_count": 25,
      "metadata": {
        "colab": {
          "base_uri": "https://localhost:8080/",
          "height": 0
        },
        "id": "65GIojYeYZxK",
        "outputId": "001241fe-5326-46ac-fdc7-e824bd58f6fd"
      },
      "outputs": [
        {
          "output_type": "execute_result",
          "data": {
            "text/plain": [
              "2"
            ]
          },
          "metadata": {},
          "execution_count": 25
        }
      ],
      "source": [
        "x = 1\n",
        "y = 2\n",
        "x + y\n",
        "y"
      ]
    },
    {
      "cell_type": "markdown",
      "metadata": {
        "id": "j6mGDVy5YZxK"
      },
      "source": [
        "`add_numbers()` is a function that takes two numbers and adds them together."
      ]
    },
    {
      "cell_type": "code",
      "execution_count": 26,
      "metadata": {
        "colab": {
          "base_uri": "https://localhost:8080/",
          "height": 0
        },
        "id": "_Gad3WyXYZxK",
        "outputId": "0856242c-7c06-4dc2-e13a-b57b667c0bb6"
      },
      "outputs": [
        {
          "output_type": "execute_result",
          "data": {
            "text/plain": [
              "3"
            ]
          },
          "metadata": {},
          "execution_count": 26
        }
      ],
      "source": [
        "def add_numbers(x, y):\n",
        "    return x + y\n",
        "\n",
        "add_numbers(1, 2)"
      ]
    },
    {
      "cell_type": "markdown",
      "metadata": {
        "id": "Jv7lYPXjYZxK"
      },
      "source": [
        "`add_numbers()` updated to take an optional 3rd parameter. Using `print()` allows printing of multiple expressions within a single cell."
      ]
    },
    {
      "cell_type": "code",
      "execution_count": 27,
      "metadata": {
        "colab": {
          "base_uri": "https://localhost:8080/",
          "height": 0
        },
        "id": "z4jUIqvHYZxL",
        "outputId": "27cc58cd-c202-4e98-8858-e71814fe0ad9"
      },
      "outputs": [
        {
          "output_type": "stream",
          "name": "stdout",
          "text": [
            "3\n",
            "6\n"
          ]
        }
      ],
      "source": [
        "def add_numbers(x,y,z=None):\n",
        "    if (z==None):\n",
        "        return x+y\n",
        "    else:\n",
        "        return x+y+z\n",
        "\n",
        "print(add_numbers(1, 2))\n",
        "print(add_numbers(1, 2, 3))"
      ]
    },
    {
      "cell_type": "markdown",
      "metadata": {
        "id": "XVb1mGfkYZxL"
      },
      "source": [
        "`add_numbers()` updated to take an optional flag parameter."
      ]
    },
    {
      "cell_type": "code",
      "execution_count": 28,
      "metadata": {
        "colab": {
          "base_uri": "https://localhost:8080/",
          "height": 0
        },
        "id": "5PfjqxblYZxL",
        "outputId": "a1730325-13bf-476e-c9e3-5797225cb4f5"
      },
      "outputs": [
        {
          "output_type": "stream",
          "name": "stdout",
          "text": [
            "Flag is true!\n",
            "3\n"
          ]
        }
      ],
      "source": [
        "def add_numbers(x, y, z=None, flag=False):\n",
        "    if (flag):\n",
        "        print('Flag is true!')\n",
        "    if (z==None):\n",
        "        return x + y\n",
        "    else:\n",
        "        return x + y + z\n",
        "\n",
        "print(add_numbers(1, 2, flag=True))"
      ]
    },
    {
      "cell_type": "markdown",
      "metadata": {
        "id": "T8Q8mPmdYZxL"
      },
      "source": [
        "Assign function `add_numbers` to variable `a`."
      ]
    },
    {
      "cell_type": "code",
      "execution_count": 29,
      "metadata": {
        "colab": {
          "base_uri": "https://localhost:8080/",
          "height": 0
        },
        "id": "vpBfw7EnYZxL",
        "outputId": "e2d5abc4-925c-46f2-ae7b-9e540453c9f7"
      },
      "outputs": [
        {
          "output_type": "execute_result",
          "data": {
            "text/plain": [
              "3"
            ]
          },
          "metadata": {},
          "execution_count": 29
        }
      ],
      "source": [
        "def add_numbers(x,y):\n",
        "    return x+y\n",
        "\n",
        "a = add_numbers\n",
        "a(1,2)"
      ]
    },
    {
      "cell_type": "markdown",
      "metadata": {
        "id": "93SvzgicYZxM"
      },
      "source": [
        "# Types and Sequences\n",
        "\n",
        "Use `type` to return the object's type."
      ]
    },
    {
      "cell_type": "code",
      "execution_count": 30,
      "metadata": {
        "colab": {
          "base_uri": "https://localhost:8080/",
          "height": 0
        },
        "id": "hx4YoNdGYZxM",
        "outputId": "787bc3f7-1614-4913-90e4-70d9a0d90720"
      },
      "outputs": [
        {
          "output_type": "execute_result",
          "data": {
            "text/plain": [
              "function"
            ]
          },
          "metadata": {},
          "execution_count": 30
        }
      ],
      "source": [
        "type('This is a string')\n",
        "type(None)\n",
        "type(1)\n",
        "type(1.0)\n",
        "type(add_numbers)"
      ]
    },
    {
      "cell_type": "markdown",
      "metadata": {
        "id": "R7cKOnvXYZxM"
      },
      "source": [
        "Tuples are an immutable data structure (cannot be altered)."
      ]
    },
    {
      "cell_type": "code",
      "execution_count": 31,
      "metadata": {
        "colab": {
          "base_uri": "https://localhost:8080/",
          "height": 0
        },
        "id": "Jqw0CwFaYZxM",
        "outputId": "20a97958-69a0-440d-d773-e825f4e58ddf"
      },
      "outputs": [
        {
          "output_type": "execute_result",
          "data": {
            "text/plain": [
              "tuple"
            ]
          },
          "metadata": {},
          "execution_count": 31
        }
      ],
      "source": [
        "x = (1, 'a', 2, 'b')\n",
        "type(x)"
      ]
    },
    {
      "cell_type": "markdown",
      "metadata": {
        "id": "2x6Gnns_YZxM"
      },
      "source": [
        "Lists are a mutable data structure."
      ]
    },
    {
      "cell_type": "code",
      "execution_count": 32,
      "metadata": {
        "colab": {
          "base_uri": "https://localhost:8080/",
          "height": 0
        },
        "id": "jf2PwZLMYZxM",
        "outputId": "540daa9a-a402-43d9-dd3f-dee75290e8c2"
      },
      "outputs": [
        {
          "output_type": "execute_result",
          "data": {
            "text/plain": [
              "list"
            ]
          },
          "metadata": {},
          "execution_count": 32
        }
      ],
      "source": [
        "x = [1, 'a', 2, 'b']\n",
        "type(x)"
      ]
    },
    {
      "cell_type": "markdown",
      "metadata": {
        "id": "VLg154aCYZxM"
      },
      "source": [
        "Use `append` to append an object to a list."
      ]
    },
    {
      "cell_type": "code",
      "execution_count": 33,
      "metadata": {
        "colab": {
          "base_uri": "https://localhost:8080/",
          "height": 0
        },
        "id": "LYMayYNHYZxN",
        "outputId": "1b2c2d37-573d-4d74-fafe-ce75eda18aad"
      },
      "outputs": [
        {
          "output_type": "stream",
          "name": "stdout",
          "text": [
            "[1, 'a', 2, 'b', 3.3]\n"
          ]
        }
      ],
      "source": [
        "x.append(3.3)\n",
        "print(x)"
      ]
    },
    {
      "cell_type": "markdown",
      "metadata": {
        "id": "1RHLZD_kYZxN"
      },
      "source": [
        "This is an example of how to loop through each item in the list."
      ]
    },
    {
      "cell_type": "code",
      "execution_count": 34,
      "metadata": {
        "colab": {
          "base_uri": "https://localhost:8080/",
          "height": 0
        },
        "id": "Dt5ukN7ZYZxN",
        "outputId": "e764280a-5e5d-4208-8374-c552f5c502c4"
      },
      "outputs": [
        {
          "output_type": "stream",
          "name": "stdout",
          "text": [
            "1\n",
            "a\n",
            "2\n",
            "b\n",
            "3.3\n"
          ]
        }
      ],
      "source": [
        "for item in x:\n",
        "    print(item)"
      ]
    },
    {
      "cell_type": "markdown",
      "metadata": {
        "id": "4Dd6P91-YZxN"
      },
      "source": [
        "Or using the indexing operator:"
      ]
    },
    {
      "cell_type": "code",
      "execution_count": 35,
      "metadata": {
        "colab": {
          "base_uri": "https://localhost:8080/",
          "height": 0
        },
        "id": "QYHBiOaSYZxN",
        "outputId": "725b04a8-eb95-4cc0-e4b7-9f20fb165c9f"
      },
      "outputs": [
        {
          "output_type": "stream",
          "name": "stdout",
          "text": [
            "1\n",
            "a\n",
            "2\n",
            "b\n",
            "3.3\n"
          ]
        }
      ],
      "source": [
        "i=0\n",
        "while( i != len(x) ):\n",
        "    print(x[i])\n",
        "    i = i + 1"
      ]
    },
    {
      "cell_type": "markdown",
      "metadata": {
        "id": "1-T_M-8-YZxN"
      },
      "source": [
        "Use `+` to concatenate lists."
      ]
    },
    {
      "cell_type": "code",
      "execution_count": 36,
      "metadata": {
        "colab": {
          "base_uri": "https://localhost:8080/",
          "height": 0
        },
        "id": "aJaLv6N0YZxN",
        "outputId": "1a6b1ed0-7c64-4649-897f-3c32fbda5241"
      },
      "outputs": [
        {
          "output_type": "execute_result",
          "data": {
            "text/plain": [
              "[1, 2, 3, 4]"
            ]
          },
          "metadata": {},
          "execution_count": 36
        }
      ],
      "source": [
        "[1,2] + [3,4]"
      ]
    },
    {
      "cell_type": "markdown",
      "metadata": {
        "id": "pVld5ODWYZxO"
      },
      "source": [
        "Use `*` to repeat lists."
      ]
    },
    {
      "cell_type": "code",
      "execution_count": 37,
      "metadata": {
        "colab": {
          "base_uri": "https://localhost:8080/",
          "height": 0
        },
        "id": "HgnoK2lOYZxO",
        "outputId": "e7b0c3ce-9693-469e-e7bf-ca227142a073"
      },
      "outputs": [
        {
          "output_type": "execute_result",
          "data": {
            "text/plain": [
              "[1, 1, 1]"
            ]
          },
          "metadata": {},
          "execution_count": 37
        }
      ],
      "source": [
        "[1]*3"
      ]
    },
    {
      "cell_type": "markdown",
      "metadata": {
        "id": "y1A0gQ0_YZxO"
      },
      "source": [
        "Use the `in` operator to check if something is inside a list."
      ]
    },
    {
      "cell_type": "code",
      "execution_count": 38,
      "metadata": {
        "colab": {
          "base_uri": "https://localhost:8080/",
          "height": 0
        },
        "id": "qMiuG-gwYZxO",
        "outputId": "2a8d729c-0878-4148-fa6f-812d2df6c18e"
      },
      "outputs": [
        {
          "output_type": "execute_result",
          "data": {
            "text/plain": [
              "True"
            ]
          },
          "metadata": {},
          "execution_count": 38
        }
      ],
      "source": [
        "1 in [1, 2, 3]"
      ]
    },
    {
      "cell_type": "markdown",
      "metadata": {
        "id": "809E1X7-YZxO"
      },
      "source": [
        "Now let's look at strings. Use bracket notation to slice a string."
      ]
    },
    {
      "cell_type": "code",
      "execution_count": 39,
      "metadata": {
        "colab": {
          "base_uri": "https://localhost:8080/",
          "height": 0
        },
        "id": "iivAxm-nYZxO",
        "outputId": "175ad202-f2a4-473d-b605-a03075bdfd3b"
      },
      "outputs": [
        {
          "output_type": "stream",
          "name": "stdout",
          "text": [
            "T\n",
            "T\n",
            "Th\n"
          ]
        }
      ],
      "source": [
        "x = 'This is a string'\n",
        "print(x[0]) #first character\n",
        "print(x[0:1]) #first character, but we have explicitly set the end character\n",
        "print(x[0:2]) #first two characters"
      ]
    },
    {
      "cell_type": "markdown",
      "metadata": {
        "id": "wjOHjxVJYZxO"
      },
      "source": [
        "This will return the last element of the string."
      ]
    },
    {
      "cell_type": "code",
      "execution_count": 40,
      "metadata": {
        "colab": {
          "base_uri": "https://localhost:8080/",
          "height": 35
        },
        "id": "_sJAW5xXYZxO",
        "outputId": "69d9d64e-94b3-4115-9d49-88f676e3e47e"
      },
      "outputs": [
        {
          "output_type": "execute_result",
          "data": {
            "text/plain": [
              "'g'"
            ],
            "application/vnd.google.colaboratory.intrinsic+json": {
              "type": "string"
            }
          },
          "metadata": {},
          "execution_count": 40
        }
      ],
      "source": [
        "x[-1]"
      ]
    },
    {
      "cell_type": "markdown",
      "metadata": {
        "id": "UdeMU1gsYZxO"
      },
      "source": [
        "This will return the slice starting from the 4th element from the end and stopping before the 2nd element from the end."
      ]
    },
    {
      "cell_type": "code",
      "execution_count": 41,
      "metadata": {
        "colab": {
          "base_uri": "https://localhost:8080/",
          "height": 35
        },
        "id": "URr92684YZxP",
        "outputId": "c65de24f-e48f-4e99-8ae7-55919c52a2f1"
      },
      "outputs": [
        {
          "output_type": "execute_result",
          "data": {
            "text/plain": [
              "'ri'"
            ],
            "application/vnd.google.colaboratory.intrinsic+json": {
              "type": "string"
            }
          },
          "metadata": {},
          "execution_count": 41
        }
      ],
      "source": [
        "x[-4:-2]"
      ]
    },
    {
      "cell_type": "markdown",
      "metadata": {
        "id": "cJFUC8EKYZxP"
      },
      "source": [
        "This is a slice from the beginning of the string and stopping before the 3rd element."
      ]
    },
    {
      "cell_type": "code",
      "execution_count": 42,
      "metadata": {
        "colab": {
          "base_uri": "https://localhost:8080/",
          "height": 35
        },
        "id": "5vDlayHOYZxP",
        "outputId": "e34180bc-59e7-4d6f-e886-0f94c3ae1cb1"
      },
      "outputs": [
        {
          "output_type": "execute_result",
          "data": {
            "text/plain": [
              "'Thi'"
            ],
            "application/vnd.google.colaboratory.intrinsic+json": {
              "type": "string"
            }
          },
          "metadata": {},
          "execution_count": 42
        }
      ],
      "source": [
        "x[:3]"
      ]
    },
    {
      "cell_type": "markdown",
      "metadata": {
        "id": "pNTbUlWGYZxP"
      },
      "source": [
        "And this is a slice starting from the 3rd element of the string and going all the way to the end."
      ]
    },
    {
      "cell_type": "code",
      "execution_count": 43,
      "metadata": {
        "colab": {
          "base_uri": "https://localhost:8080/",
          "height": 35
        },
        "id": "3YmTYeKAYZxP",
        "outputId": "cb5a1963-682d-4a10-9608-d48e3bc43a39"
      },
      "outputs": [
        {
          "output_type": "execute_result",
          "data": {
            "text/plain": [
              "'s is a string'"
            ],
            "application/vnd.google.colaboratory.intrinsic+json": {
              "type": "string"
            }
          },
          "metadata": {},
          "execution_count": 43
        }
      ],
      "source": [
        "x[3:]"
      ]
    },
    {
      "cell_type": "code",
      "execution_count": 44,
      "metadata": {
        "colab": {
          "base_uri": "https://localhost:8080/",
          "height": 0
        },
        "id": "AOtWUvFzYZxP",
        "outputId": "1ee18770-179d-43ee-ae30-c5d1bc3c17c8"
      },
      "outputs": [
        {
          "output_type": "stream",
          "name": "stdout",
          "text": [
            "Gary Kildall\n",
            "GaryGaryGary\n",
            "True\n"
          ]
        }
      ],
      "source": [
        "firstname = 'Gary'\n",
        "lastname = 'Kildall'\n",
        "\n",
        "print(firstname + ' ' + lastname)\n",
        "print(firstname*3)\n",
        "print('Gary' in firstname)"
      ]
    },
    {
      "cell_type": "markdown",
      "metadata": {
        "id": "-9abSPhkYZxQ"
      },
      "source": [
        "`split` returns a list of all the words in a string, or a list split on a specific character."
      ]
    },
    {
      "cell_type": "code",
      "execution_count": 45,
      "metadata": {
        "colab": {
          "base_uri": "https://localhost:8080/",
          "height": 0
        },
        "id": "LxfVqGzeYZxQ",
        "outputId": "935c9efd-b488-43c2-c312-b16f07b8e73b"
      },
      "outputs": [
        {
          "output_type": "stream",
          "name": "stdout",
          "text": [
            "Gary\n",
            "Kildall\n"
          ]
        }
      ],
      "source": [
        "firstname = 'Gary Arlen Kildall'.split(' ')[0] # [0] selects the first element of the list\n",
        "lastname = 'Gary Arlen Kildall'.split(' ')[-1] # [-1] selects the last element of the list\n",
        "print(firstname)\n",
        "print(lastname)"
      ]
    },
    {
      "cell_type": "markdown",
      "metadata": {
        "id": "SxhznT1ZYZxQ"
      },
      "source": [
        "Make sure you convert objects to strings before concatenating."
      ]
    },
    {
      "cell_type": "code",
      "execution_count": 46,
      "metadata": {
        "colab": {
          "base_uri": "https://localhost:8080/",
          "height": 159
        },
        "id": "zWSOKf8SYZxQ",
        "outputId": "8c18bc82-2819-4eee-c185-0edae578d474"
      },
      "outputs": [
        {
          "output_type": "error",
          "ename": "TypeError",
          "evalue": "can only concatenate str (not \"int\") to str",
          "traceback": [
            "\u001b[0;31m---------------------------------------------------------------------------\u001b[0m",
            "\u001b[0;31mTypeError\u001b[0m                                 Traceback (most recent call last)",
            "\u001b[0;32m<ipython-input-46-60fdd0811320>\u001b[0m in \u001b[0;36m<cell line: 1>\u001b[0;34m()\u001b[0m\n\u001b[0;32m----> 1\u001b[0;31m \u001b[0;34m'Gary'\u001b[0m \u001b[0;34m+\u001b[0m \u001b[0;36m2\u001b[0m\u001b[0;34m\u001b[0m\u001b[0;34m\u001b[0m\u001b[0m\n\u001b[0m\u001b[1;32m      2\u001b[0m \u001b[0;34m'Gary'\u001b[0m \u001b[0;34m+\u001b[0m \u001b[0mstr\u001b[0m\u001b[0;34m(\u001b[0m\u001b[0;36m2\u001b[0m\u001b[0;34m)\u001b[0m\u001b[0;34m\u001b[0m\u001b[0;34m\u001b[0m\u001b[0m\n",
            "\u001b[0;31mTypeError\u001b[0m: can only concatenate str (not \"int\") to str"
          ]
        }
      ],
      "source": [
        "'Gary' + 2\n",
        "'Gary' + str(2)"
      ]
    },
    {
      "cell_type": "markdown",
      "metadata": {
        "id": "CyXsrMOyYZxQ"
      },
      "source": [
        "Dictionaries associate keys with values."
      ]
    },
    {
      "cell_type": "code",
      "execution_count": 47,
      "metadata": {
        "colab": {
          "base_uri": "https://localhost:8080/",
          "height": 35
        },
        "id": "mWrViVLFYZxQ",
        "outputId": "6b70a51f-ef81-4b86-aa8b-ce697ae373ee"
      },
      "outputs": [
        {
          "output_type": "execute_result",
          "data": {
            "text/plain": [
              "'gkildall@digitalresearch.com'"
            ],
            "application/vnd.google.colaboratory.intrinsic+json": {
              "type": "string"
            }
          },
          "metadata": {},
          "execution_count": 47
        }
      ],
      "source": [
        "x = {'Gary Kildall': 'gkildall@digitalresearch.com', 'Bill Gates': 'billg@microsoft.com'}\n",
        "x['Gary Kildall'] # Retrieve a value by using the indexing operator"
      ]
    },
    {
      "cell_type": "code",
      "execution_count": 48,
      "metadata": {
        "id": "4A3JjqdaYZxQ"
      },
      "outputs": [],
      "source": [
        "x['Steve Jobs'] = None\n",
        "x['Steve Jobs']"
      ]
    },
    {
      "cell_type": "markdown",
      "metadata": {
        "id": "NrPdI035YZxR"
      },
      "source": [
        "Iterate over all of the keys:"
      ]
    },
    {
      "cell_type": "code",
      "execution_count": 49,
      "metadata": {
        "colab": {
          "base_uri": "https://localhost:8080/",
          "height": 0
        },
        "id": "0NR96QydYZxR",
        "outputId": "370fd579-0f43-4d46-fc5e-25596ca495a5"
      },
      "outputs": [
        {
          "output_type": "stream",
          "name": "stdout",
          "text": [
            "gkildall@digitalresearch.com\n",
            "billg@microsoft.com\n",
            "None\n"
          ]
        }
      ],
      "source": [
        "for name in x:\n",
        "    print(x[name])"
      ]
    },
    {
      "cell_type": "markdown",
      "metadata": {
        "id": "qa9VXdzrYZxR"
      },
      "source": [
        "Iterate over all of the values:"
      ]
    },
    {
      "cell_type": "code",
      "execution_count": 50,
      "metadata": {
        "colab": {
          "base_uri": "https://localhost:8080/",
          "height": 0
        },
        "id": "jS9SVN4dYZxR",
        "outputId": "dbee2c7c-cfd7-44a7-abc6-f2f695f80375"
      },
      "outputs": [
        {
          "output_type": "stream",
          "name": "stdout",
          "text": [
            "gkildall@digitalresearch.com\n",
            "billg@microsoft.com\n",
            "None\n"
          ]
        }
      ],
      "source": [
        "for email in x.values():\n",
        "    print(email)"
      ]
    },
    {
      "cell_type": "markdown",
      "metadata": {
        "id": "iAO5xuA0YZxR"
      },
      "source": [
        "Iterate over all of the items in the list:"
      ]
    },
    {
      "cell_type": "code",
      "execution_count": 51,
      "metadata": {
        "id": "eXnmJiKkYZxR",
        "colab": {
          "base_uri": "https://localhost:8080/",
          "height": 0
        },
        "outputId": "320ab34c-726d-434d-e3c5-b8c4d67677cb"
      },
      "outputs": [
        {
          "output_type": "stream",
          "name": "stdout",
          "text": [
            "Gary Kildall\n",
            "gkildall@digitalresearch.com\n",
            "Bill Gates\n",
            "billg@microsoft.com\n",
            "Steve Jobs\n",
            "None\n"
          ]
        }
      ],
      "source": [
        "for name, email in x.items():\n",
        "    print(name)\n",
        "    print(email)"
      ]
    },
    {
      "cell_type": "markdown",
      "metadata": {
        "id": "jx9REYTUYZxS"
      },
      "source": [
        "You can unpack a sequence into different variables:"
      ]
    },
    {
      "cell_type": "code",
      "execution_count": 52,
      "metadata": {
        "id": "kNA29NjXYZxS",
        "colab": {
          "base_uri": "https://localhost:8080/",
          "height": 35
        },
        "outputId": "c0e42ef4-96c1-4ba7-84b9-ec4ff43bbc7c"
      },
      "outputs": [
        {
          "output_type": "execute_result",
          "data": {
            "text/plain": [
              "'Kildall'"
            ],
            "application/vnd.google.colaboratory.intrinsic+json": {
              "type": "string"
            }
          },
          "metadata": {},
          "execution_count": 52
        }
      ],
      "source": [
        "x = ('Gary', 'Kildall', 'gkildall@digitalresearch.com')\n",
        "fname, lname, email = x\n",
        "fname\n",
        "lname"
      ]
    },
    {
      "cell_type": "markdown",
      "metadata": {
        "id": "ocGdKls0YZxS"
      },
      "source": [
        "Make sure the number of values you are unpacking matches the number of variables\n",
        "being assigned."
      ]
    },
    {
      "cell_type": "code",
      "execution_count": 53,
      "metadata": {
        "id": "BVLXeaoEYZxS",
        "colab": {
          "base_uri": "https://localhost:8080/",
          "height": 159
        },
        "outputId": "5dcd60c3-0858-4f35-9af0-9d50f6c7f7e2"
      },
      "outputs": [
        {
          "output_type": "error",
          "ename": "ValueError",
          "evalue": "too many values to unpack (expected 3)",
          "traceback": [
            "\u001b[0;31m---------------------------------------------------------------------------\u001b[0m",
            "\u001b[0;31mValueError\u001b[0m                                Traceback (most recent call last)",
            "\u001b[0;32m<ipython-input-53-ad25a0dce19a>\u001b[0m in \u001b[0;36m<cell line: 2>\u001b[0;34m()\u001b[0m\n\u001b[1;32m      1\u001b[0m \u001b[0mx\u001b[0m \u001b[0;34m=\u001b[0m \u001b[0;34m(\u001b[0m\u001b[0;34m'Gary'\u001b[0m\u001b[0;34m,\u001b[0m \u001b[0;34m'Kildall'\u001b[0m\u001b[0;34m,\u001b[0m \u001b[0;34m'gkildall@digitalresearch.com'\u001b[0m\u001b[0;34m,\u001b[0m \u001b[0;34m'Digital Research'\u001b[0m\u001b[0;34m)\u001b[0m\u001b[0;34m\u001b[0m\u001b[0;34m\u001b[0m\u001b[0m\n\u001b[0;32m----> 2\u001b[0;31m \u001b[0mfname\u001b[0m\u001b[0;34m,\u001b[0m \u001b[0mlname\u001b[0m\u001b[0;34m,\u001b[0m \u001b[0memail\u001b[0m \u001b[0;34m=\u001b[0m \u001b[0mx\u001b[0m\u001b[0;34m\u001b[0m\u001b[0;34m\u001b[0m\u001b[0m\n\u001b[0m",
            "\u001b[0;31mValueError\u001b[0m: too many values to unpack (expected 3)"
          ]
        }
      ],
      "source": [
        "x = ('Gary', 'Kildall', 'gkildall@digitalresearch.com', 'Digital Research')\n",
        "fname, lname, email = x"
      ]
    },
    {
      "cell_type": "markdown",
      "metadata": {
        "id": "tcpRPXyvYZxS"
      },
      "source": [
        "# More on Strings"
      ]
    },
    {
      "cell_type": "code",
      "execution_count": 54,
      "metadata": {
        "colab": {
          "base_uri": "https://localhost:8080/",
          "height": 141
        },
        "id": "5-GWmfxGYZxS",
        "outputId": "1a31c7d9-2e3d-4833-9fd3-964c2153b485"
      },
      "outputs": [
        {
          "output_type": "error",
          "ename": "TypeError",
          "evalue": "can only concatenate str (not \"int\") to str",
          "traceback": [
            "\u001b[0;31m---------------------------------------------------------------------------\u001b[0m",
            "\u001b[0;31mTypeError\u001b[0m                                 Traceback (most recent call last)",
            "\u001b[0;32m<ipython-input-54-2ef570463584>\u001b[0m in \u001b[0;36m<cell line: 1>\u001b[0;34m()\u001b[0m\n\u001b[0;32m----> 1\u001b[0;31m \u001b[0mprint\u001b[0m\u001b[0;34m(\u001b[0m\u001b[0;34m'Gary'\u001b[0m \u001b[0;34m+\u001b[0m \u001b[0;36m2\u001b[0m\u001b[0;34m)\u001b[0m\u001b[0;34m\u001b[0m\u001b[0;34m\u001b[0m\u001b[0m\n\u001b[0m",
            "\u001b[0;31mTypeError\u001b[0m: can only concatenate str (not \"int\") to str"
          ]
        }
      ],
      "source": [
        "print('Gary' + 2)"
      ]
    },
    {
      "cell_type": "code",
      "execution_count": 55,
      "metadata": {
        "colab": {
          "base_uri": "https://localhost:8080/",
          "height": 0
        },
        "id": "bwALSBw6YZxS",
        "outputId": "1b7c8571-a6fd-412d-f393-4ba8b4da1657"
      },
      "outputs": [
        {
          "output_type": "stream",
          "name": "stdout",
          "text": [
            "Gary2\n"
          ]
        }
      ],
      "source": [
        "print('Gary' + str(2))"
      ]
    },
    {
      "cell_type": "markdown",
      "metadata": {
        "id": "NlSIyEg5YZxS"
      },
      "source": [
        "Python has a built in method for convenient string formatting."
      ]
    },
    {
      "cell_type": "code",
      "execution_count": 56,
      "metadata": {
        "colab": {
          "base_uri": "https://localhost:8080/",
          "height": 0
        },
        "id": "a4svuxzqYZxT",
        "outputId": "6ffa07ff-d644-459d-90d5-9d072a7b28d6"
      },
      "outputs": [
        {
          "output_type": "stream",
          "name": "stdout",
          "text": [
            "Gary bought 4 item(s) at a price of 3.24 each for a total of 12.96\n"
          ]
        }
      ],
      "source": [
        "sales_record = {\n",
        "'price': 3.24,\n",
        "'num_items': 4,\n",
        "'person': 'Gary'}\n",
        "\n",
        "sales_statement = '{} bought {} item(s) at a price of {} each for a total of {}'\n",
        "\n",
        "print(sales_statement.format(sales_record['person'],\n",
        "                             sales_record['num_items'],\n",
        "                             sales_record['price'],\n",
        "                             sales_record['num_items']*sales_record['price']))"
      ]
    },
    {
      "cell_type": "markdown",
      "metadata": {
        "id": "Nej1bkPeYZxU"
      },
      "source": [
        "# Reading and Writing CSV files\n",
        "\n",
        "Let's import our datafile mpg.csv, which contains fuel economy data for 234 cars.\n",
        "\n",
        "* mpg : miles per gallon\n",
        "* class : car classification\n",
        "* cty : city mpg\n",
        "* cyl : # of cylinders\n",
        "* displ : engine displacement in liters\n",
        "* drv : f = front-wheel drive, r = rear wheel drive, 4 = 4wd\n",
        "* fl : fuel (e = ethanol E85, d = diesel, r = regular, p = premium, c = CNG)\n",
        "* hwy : highway mpg\n",
        "* manufacturer : automobile manufacturer\n",
        "* model : model of car\n",
        "* trans : type of transmission\n",
        "* year : model year"
      ]
    },
    {
      "cell_type": "code",
      "execution_count": 59,
      "metadata": {
        "colab": {
          "base_uri": "https://localhost:8080/",
          "height": 0
        },
        "id": "LZNuC_3KYZxU",
        "outputId": "346dac69-55ba-4e11-d47f-fd35ff274005"
      },
      "outputs": [
        {
          "output_type": "execute_result",
          "data": {
            "text/plain": [
              "[{'': '1',\n",
              "  'manufacturer': 'audi',\n",
              "  'model': 'a4',\n",
              "  'displ': '1.8',\n",
              "  'year': '1999',\n",
              "  'cyl': '4',\n",
              "  'trans': 'auto(l5)',\n",
              "  'drv': 'f',\n",
              "  'cty': '18',\n",
              "  'hwy': '29',\n",
              "  'fl': 'p',\n",
              "  'class': 'compact'},\n",
              " {'': '2',\n",
              "  'manufacturer': 'audi',\n",
              "  'model': 'a4',\n",
              "  'displ': '1.8',\n",
              "  'year': '1999',\n",
              "  'cyl': '4',\n",
              "  'trans': 'manual(m5)',\n",
              "  'drv': 'f',\n",
              "  'cty': '21',\n",
              "  'hwy': '29',\n",
              "  'fl': 'p',\n",
              "  'class': 'compact'},\n",
              " {'': '3',\n",
              "  'manufacturer': 'audi',\n",
              "  'model': 'a4',\n",
              "  'displ': '2',\n",
              "  'year': '2008',\n",
              "  'cyl': '4',\n",
              "  'trans': 'manual(m6)',\n",
              "  'drv': 'f',\n",
              "  'cty': '20',\n",
              "  'hwy': '31',\n",
              "  'fl': 'p',\n",
              "  'class': 'compact'}]"
            ]
          },
          "metadata": {},
          "execution_count": 59
        }
      ],
      "source": [
        "import csv\n",
        "\n",
        "%precision 2\n",
        "\n",
        "with open(r'/content/drive/MyDrive/Colab Notebooks/ML Class/Week 1/Python lab 1/mpg.csv') as csvfile:\n",
        "    mpg = list(csv.DictReader(csvfile))\n",
        "\n",
        "mpg[:3] # The first three dictionaries in our list."
      ]
    },
    {
      "cell_type": "code",
      "source": [
        "from google.colab import drive\n",
        "drive.mount('/content/drive')"
      ],
      "metadata": {
        "colab": {
          "base_uri": "https://localhost:8080/",
          "height": 0
        },
        "id": "AMnpOlTBpnv_",
        "outputId": "3521dc7e-a8d7-4474-b0fd-a19faa7dbf42"
      },
      "execution_count": 58,
      "outputs": [
        {
          "output_type": "stream",
          "name": "stdout",
          "text": [
            "Mounted at /content/drive\n"
          ]
        }
      ]
    },
    {
      "cell_type": "markdown",
      "metadata": {
        "id": "2-3SDDxwYZxU"
      },
      "source": [
        "`csv.Dictreader` has read in each row of our csv file as a dictionary. `len` shows that our list is comprised of 234 dictionaries."
      ]
    },
    {
      "cell_type": "code",
      "execution_count": 60,
      "metadata": {
        "colab": {
          "base_uri": "https://localhost:8080/",
          "height": 0
        },
        "id": "nwutWyqxYZxU",
        "outputId": "b0e671f3-6a86-42af-c538-399a0c300004"
      },
      "outputs": [
        {
          "output_type": "execute_result",
          "data": {
            "text/plain": [
              "234"
            ]
          },
          "metadata": {},
          "execution_count": 60
        }
      ],
      "source": [
        "len(mpg)"
      ]
    },
    {
      "cell_type": "markdown",
      "metadata": {
        "id": "uj2FhWHAYZxU"
      },
      "source": [
        "`keys` gives us the column names of our csv."
      ]
    },
    {
      "cell_type": "code",
      "execution_count": 61,
      "metadata": {
        "colab": {
          "base_uri": "https://localhost:8080/",
          "height": 0
        },
        "id": "T043jWUGYZxU",
        "outputId": "d37c5b0d-800c-4e0f-9070-b7f3ecec994d"
      },
      "outputs": [
        {
          "output_type": "execute_result",
          "data": {
            "text/plain": [
              "dict_keys(['', 'manufacturer', 'model', 'displ', 'year', 'cyl', 'trans', 'drv', 'cty', 'hwy', 'fl', 'class'])"
            ]
          },
          "metadata": {},
          "execution_count": 61
        }
      ],
      "source": [
        "mpg[0].keys()"
      ]
    },
    {
      "cell_type": "markdown",
      "metadata": {
        "id": "Q9-qoKdUYZxU"
      },
      "source": [
        "This is how to find the average cty fuel economy across all cars. All values in the dictionaries are strings, so we need to convert to float."
      ]
    },
    {
      "cell_type": "code",
      "execution_count": 62,
      "metadata": {
        "colab": {
          "base_uri": "https://localhost:8080/",
          "height": 0
        },
        "id": "qpO8a_x7YZxU",
        "outputId": "365eb155-6151-456e-c85b-f3431aa14a54"
      },
      "outputs": [
        {
          "output_type": "execute_result",
          "data": {
            "text/plain": [
              "16.86"
            ]
          },
          "metadata": {},
          "execution_count": 62
        }
      ],
      "source": [
        "sum(float(d['cty']) for d in mpg) / len(mpg)"
      ]
    },
    {
      "cell_type": "markdown",
      "metadata": {
        "id": "mnnHnmXgYZxV"
      },
      "source": [
        "Similarly this is how to find the average hwy fuel economy across all cars."
      ]
    },
    {
      "cell_type": "code",
      "execution_count": 63,
      "metadata": {
        "colab": {
          "base_uri": "https://localhost:8080/",
          "height": 0
        },
        "id": "z6DJbF6TYZxV",
        "outputId": "8dce1026-c760-471e-d18e-f7ca700abec3"
      },
      "outputs": [
        {
          "output_type": "execute_result",
          "data": {
            "text/plain": [
              "23.44"
            ]
          },
          "metadata": {},
          "execution_count": 63
        }
      ],
      "source": [
        "sum(float(d['hwy']) for d in mpg) / len(mpg)"
      ]
    },
    {
      "cell_type": "markdown",
      "metadata": {
        "id": "f_jfNFNKYZxV"
      },
      "source": [
        "Use `set` to return the unique values for the number of cylinders the cars in our dataset have."
      ]
    },
    {
      "cell_type": "code",
      "execution_count": 64,
      "metadata": {
        "colab": {
          "base_uri": "https://localhost:8080/",
          "height": 0
        },
        "id": "ZaxxS3YaYZxV",
        "outputId": "c6eec6d7-f2c8-4509-d951-3e6912bce22f"
      },
      "outputs": [
        {
          "output_type": "execute_result",
          "data": {
            "text/plain": [
              "{'4', '5', '6', '8'}"
            ]
          },
          "metadata": {},
          "execution_count": 64
        }
      ],
      "source": [
        "cylinders = set(d['cyl'] for d in mpg)\n",
        "cylinders"
      ]
    },
    {
      "cell_type": "markdown",
      "metadata": {
        "id": "M18aB5sGYZxV"
      },
      "source": [
        "Here's a more complex example where we are grouping the cars by number of cylinder, and finding the average cty mpg for each group."
      ]
    },
    {
      "cell_type": "code",
      "execution_count": 65,
      "metadata": {
        "colab": {
          "base_uri": "https://localhost:8080/",
          "height": 0
        },
        "id": "HV0NypVWYZxV",
        "outputId": "07f8fbce-8dd9-453e-b9fc-aa2241790570"
      },
      "outputs": [
        {
          "output_type": "stream",
          "name": "stdout",
          "text": [
            "C is  6\n",
            "C is  4\n",
            "C is  8\n",
            "C is  5\n"
          ]
        },
        {
          "output_type": "execute_result",
          "data": {
            "text/plain": [
              "[('4', 21.01), ('5', 20.50), ('6', 16.22), ('8', 12.57)]"
            ]
          },
          "metadata": {},
          "execution_count": 65
        }
      ],
      "source": [
        "CtyMpgByCyl = []\n",
        "\n",
        "for c in cylinders: # iterate over all the cylinder levels\n",
        "    summpg = 0\n",
        "    cyltypecount = 0\n",
        "    print(\"C is  \"+ str(c))\n",
        "    for d in mpg: # iterate over all dictionaries\n",
        "        if d['cyl'] == c: # if the cylinder level type matches,\n",
        "            summpg += float(d['cty']) # add the cty mpg\n",
        "            cyltypecount += 1 # increment the count\n",
        "    CtyMpgByCyl.append((c, summpg / cyltypecount)) # append the tuple ('cylinder', 'avg mpg')\n",
        "\n",
        "CtyMpgByCyl.sort(key=lambda x: x[0])\n",
        "CtyMpgByCyl"
      ]
    },
    {
      "cell_type": "markdown",
      "metadata": {
        "id": "Y9gQrUQ_YZxV"
      },
      "source": [
        "Use `set` to return the unique values for the class types in our dataset."
      ]
    },
    {
      "cell_type": "code",
      "execution_count": 66,
      "metadata": {
        "colab": {
          "base_uri": "https://localhost:8080/",
          "height": 0
        },
        "id": "nPf3p355YZxV",
        "outputId": "719b0a64-aed3-4805-e39b-f259d0cbe7aa"
      },
      "outputs": [
        {
          "output_type": "execute_result",
          "data": {
            "text/plain": [
              "{'2seater', 'compact', 'midsize', 'minivan', 'pickup', 'subcompact', 'suv'}"
            ]
          },
          "metadata": {},
          "execution_count": 66
        }
      ],
      "source": [
        "vehicleclass = set(d['class'] for d in mpg) # what are the class types\n",
        "vehicleclass"
      ]
    },
    {
      "cell_type": "markdown",
      "metadata": {
        "id": "gzJghTWVYZxV"
      },
      "source": [
        "And here's an example of how to find the average hwy mpg for each class of vehicle in our dataset."
      ]
    },
    {
      "cell_type": "code",
      "execution_count": 67,
      "metadata": {
        "colab": {
          "base_uri": "https://localhost:8080/",
          "height": 0
        },
        "id": "tc-OHJtxYZxW",
        "outputId": "47b71852-f7d1-4871-82a5-2485fb941c47"
      },
      "outputs": [
        {
          "output_type": "execute_result",
          "data": {
            "text/plain": [
              "[('pickup', 16.88),\n",
              " ('suv', 18.13),\n",
              " ('minivan', 22.36),\n",
              " ('2seater', 24.80),\n",
              " ('midsize', 27.29),\n",
              " ('subcompact', 28.14),\n",
              " ('compact', 28.30)]"
            ]
          },
          "metadata": {},
          "execution_count": 67
        }
      ],
      "source": [
        "HwyMpgByClass = []\n",
        "\n",
        "for t in vehicleclass: # iterate over all the vehicle classes\n",
        "    summpg = 0\n",
        "    vclasscount = 0\n",
        "    for d in mpg: # iterate over all dictionaries\n",
        "        if d['class'] == t: # if the class type matches,\n",
        "            summpg += float(d['hwy']) # add the hwy mpg\n",
        "            vclasscount += 1 # increment the count\n",
        "    HwyMpgByClass.append((t, summpg / vclasscount)) # append the tuple ('class', 'avg mpg')\n",
        "\n",
        "HwyMpgByClass.sort(key=lambda x: x[1])\n",
        "HwyMpgByClass"
      ]
    },
    {
      "cell_type": "markdown",
      "metadata": {
        "id": "t3JtkZ_0YZxW"
      },
      "source": [
        "# Dates and Times"
      ]
    },
    {
      "cell_type": "code",
      "execution_count": 68,
      "metadata": {
        "id": "YjXRE_ZFYZxW"
      },
      "outputs": [],
      "source": [
        "import datetime as dt\n",
        "import time as tm"
      ]
    },
    {
      "cell_type": "markdown",
      "metadata": {
        "id": "mEwEArg-YZxW"
      },
      "source": [
        "`time` returns the current time in seconds since the Epoch. (January 1st, 1970)"
      ]
    },
    {
      "cell_type": "code",
      "execution_count": 69,
      "metadata": {
        "colab": {
          "base_uri": "https://localhost:8080/",
          "height": 0
        },
        "id": "W1d7ON2aYZxW",
        "outputId": "8b4f84bb-2d6f-40d9-c1d0-4bd02aeb810e"
      },
      "outputs": [
        {
          "output_type": "execute_result",
          "data": {
            "text/plain": [
              "1725217150.38"
            ]
          },
          "metadata": {},
          "execution_count": 69
        }
      ],
      "source": [
        "tm.time()"
      ]
    },
    {
      "cell_type": "markdown",
      "metadata": {
        "id": "HigwgwOvYZxW"
      },
      "source": [
        "Convert the timestamp to datetime."
      ]
    },
    {
      "cell_type": "code",
      "execution_count": 70,
      "metadata": {
        "colab": {
          "base_uri": "https://localhost:8080/",
          "height": 0
        },
        "id": "IpJ3nAp3YZxW",
        "outputId": "8fe0d57f-2a33-48f5-835f-ed325c6d205f"
      },
      "outputs": [
        {
          "output_type": "execute_result",
          "data": {
            "text/plain": [
              "datetime.datetime(2024, 9, 1, 18, 59, 11, 471287)"
            ]
          },
          "metadata": {},
          "execution_count": 70
        }
      ],
      "source": [
        "dtnow = dt.datetime.fromtimestamp(tm.time())\n",
        "dtnow"
      ]
    },
    {
      "cell_type": "markdown",
      "metadata": {
        "id": "ABS9_pyDYZxW"
      },
      "source": [
        "Handy datetime attributes:"
      ]
    },
    {
      "cell_type": "code",
      "execution_count": 71,
      "metadata": {
        "colab": {
          "base_uri": "https://localhost:8080/",
          "height": 0
        },
        "id": "rs6Ut5nPYZxW",
        "outputId": "11592c1f-4062-49cf-9287-c0803cfdafac"
      },
      "outputs": [
        {
          "output_type": "execute_result",
          "data": {
            "text/plain": [
              "(2024, 9, 1, 18, 59, 11)"
            ]
          },
          "metadata": {},
          "execution_count": 71
        }
      ],
      "source": [
        "dtnow.year, dtnow.month, dtnow.day, dtnow.hour, dtnow.minute, dtnow.second # get year, month, day, etc.from a datetime"
      ]
    },
    {
      "cell_type": "markdown",
      "metadata": {
        "id": "yI7omLNpYZxW"
      },
      "source": [
        "`timedelta` is a duration expressing the difference between two dates."
      ]
    },
    {
      "cell_type": "code",
      "execution_count": 72,
      "metadata": {
        "colab": {
          "base_uri": "https://localhost:8080/",
          "height": 0
        },
        "id": "-hoEiW2WYZxW",
        "outputId": "947820aa-c506-4f63-8d00-385e12a33c8f"
      },
      "outputs": [
        {
          "output_type": "execute_result",
          "data": {
            "text/plain": [
              "datetime.timedelta(days=100)"
            ]
          },
          "metadata": {},
          "execution_count": 72
        }
      ],
      "source": [
        "delta = dt.timedelta(days = 100) # create a timedelta of 100 days\n",
        "delta"
      ]
    },
    {
      "cell_type": "markdown",
      "metadata": {
        "id": "flv5EYqlYZxW"
      },
      "source": [
        "`date.today` returns the current local date."
      ]
    },
    {
      "cell_type": "code",
      "execution_count": 73,
      "metadata": {
        "colab": {
          "base_uri": "https://localhost:8080/",
          "height": 0
        },
        "id": "iX9cBNRXYZxW",
        "outputId": "ee3216e3-90e7-46de-e006-40af7b218e0a"
      },
      "outputs": [
        {
          "output_type": "stream",
          "name": "stdout",
          "text": [
            "2024-09-01\n"
          ]
        },
        {
          "output_type": "execute_result",
          "data": {
            "text/plain": [
              "True"
            ]
          },
          "metadata": {},
          "execution_count": 73
        }
      ],
      "source": [
        "today = dt.date.today()\n",
        "print(today)\n",
        "today - delta # the date 100 days ago\n",
        "today > today-delta # compare dates"
      ]
    },
    {
      "cell_type": "markdown",
      "metadata": {
        "id": "II5NllYtYZxW"
      },
      "source": [
        "# Objects and map()\n",
        "\n",
        "An example of a class in python:"
      ]
    },
    {
      "cell_type": "code",
      "execution_count": 74,
      "metadata": {
        "id": "7kd2xnF-YZxX"
      },
      "outputs": [],
      "source": [
        "class Person:\n",
        "    department = 'School of Information' #a class variable\n",
        "\n",
        "    def set_name(self, new_name): #a method\n",
        "        self.name = new_name\n",
        "    def set_location(self, new_location):\n",
        "        self.location = new_location"
      ]
    },
    {
      "cell_type": "code",
      "execution_count": 75,
      "metadata": {
        "colab": {
          "base_uri": "https://localhost:8080/",
          "height": 0
        },
        "id": "eI0LjZPDYZxX",
        "outputId": "6bf53302-3473-49e3-bcf0-509c5f5e1f00"
      },
      "outputs": [
        {
          "output_type": "stream",
          "name": "stdout",
          "text": [
            "Gary Kildall live in Ann Arbor, MI, USA and works in the department School of Information\n"
          ]
        }
      ],
      "source": [
        "person = Person()\n",
        "person.set_name('Gary Kildall')\n",
        "person.set_location('Ann Arbor, MI, USA')\n",
        "print('{} live in {} and works in the department {}'.format(person.name, person.location, person.department))"
      ]
    },
    {
      "cell_type": "markdown",
      "metadata": {
        "id": "i0_wYbnZYZxX"
      },
      "source": [
        "Here's an example of mapping the `min` function between two lists."
      ]
    },
    {
      "cell_type": "code",
      "execution_count": 76,
      "metadata": {
        "colab": {
          "base_uri": "https://localhost:8080/",
          "height": 0
        },
        "id": "kvAgVGFoYZxX",
        "outputId": "8ff26c4a-5738-42cb-897f-faf7120e0f0e"
      },
      "outputs": [
        {
          "output_type": "execute_result",
          "data": {
            "text/plain": [
              "<map at 0x7e485fdcfee0>"
            ]
          },
          "metadata": {},
          "execution_count": 76
        }
      ],
      "source": [
        "store1 = [10.00, 11.00, 12.34, 2.34]\n",
        "store2 = [9.00, 11.10, 12.34, 2.01]\n",
        "cheapest = map(min, store1, store2)\n",
        "cheapest"
      ]
    },
    {
      "cell_type": "markdown",
      "metadata": {
        "id": "2i9RKF1FYZxX"
      },
      "source": [
        "Now let's iterate through the map object to see the values."
      ]
    },
    {
      "cell_type": "code",
      "execution_count": 77,
      "metadata": {
        "colab": {
          "base_uri": "https://localhost:8080/",
          "height": 0
        },
        "id": "1htScAA0YZxX",
        "outputId": "9ac5f31e-13c6-4236-96e7-0662ee88f042"
      },
      "outputs": [
        {
          "output_type": "stream",
          "name": "stdout",
          "text": [
            "9.0\n",
            "11.0\n",
            "12.34\n",
            "2.01\n"
          ]
        }
      ],
      "source": [
        "for item in cheapest:\n",
        "    print(item)"
      ]
    },
    {
      "cell_type": "markdown",
      "metadata": {
        "id": "Tz3wocoCYZxX"
      },
      "source": [
        "# Lambda and List Comprehensions\n",
        "\n",
        "\n",
        "Here's an example of lambda that takes in three parameters and adds the first two."
      ]
    },
    {
      "cell_type": "code",
      "execution_count": 78,
      "metadata": {
        "colab": {
          "base_uri": "https://localhost:8080/",
          "height": 0
        },
        "id": "1YgnScIwYZxX",
        "outputId": "b1342b90-7984-4f38-d6d8-07def4ca7d05"
      },
      "outputs": [
        {
          "output_type": "execute_result",
          "data": {
            "text/plain": [
              "3"
            ]
          },
          "metadata": {},
          "execution_count": 78
        }
      ],
      "source": [
        "my_function = lambda a, b, c : a + b\n",
        "my_function(1, 2, 3)"
      ]
    },
    {
      "cell_type": "markdown",
      "metadata": {
        "id": "3kKuIhkGYZxX"
      },
      "source": [
        "Let's iterate from 0 to 999 and return the even numbers."
      ]
    },
    {
      "cell_type": "code",
      "execution_count": 79,
      "metadata": {
        "colab": {
          "base_uri": "https://localhost:8080/",
          "height": 0
        },
        "collapsed": true,
        "id": "5xARyq-AYZxY",
        "outputId": "84135ff8-f8d4-4826-a89c-9a7e436f5c8e"
      },
      "outputs": [
        {
          "output_type": "execute_result",
          "data": {
            "text/plain": [
              "[0,\n",
              " 2,\n",
              " 4,\n",
              " 6,\n",
              " 8,\n",
              " 10,\n",
              " 12,\n",
              " 14,\n",
              " 16,\n",
              " 18,\n",
              " 20,\n",
              " 22,\n",
              " 24,\n",
              " 26,\n",
              " 28,\n",
              " 30,\n",
              " 32,\n",
              " 34,\n",
              " 36,\n",
              " 38,\n",
              " 40,\n",
              " 42,\n",
              " 44,\n",
              " 46,\n",
              " 48,\n",
              " 50,\n",
              " 52,\n",
              " 54,\n",
              " 56,\n",
              " 58,\n",
              " 60,\n",
              " 62,\n",
              " 64,\n",
              " 66,\n",
              " 68,\n",
              " 70,\n",
              " 72,\n",
              " 74,\n",
              " 76,\n",
              " 78,\n",
              " 80,\n",
              " 82,\n",
              " 84,\n",
              " 86,\n",
              " 88,\n",
              " 90,\n",
              " 92,\n",
              " 94,\n",
              " 96,\n",
              " 98,\n",
              " 100,\n",
              " 102,\n",
              " 104,\n",
              " 106,\n",
              " 108,\n",
              " 110,\n",
              " 112,\n",
              " 114,\n",
              " 116,\n",
              " 118,\n",
              " 120,\n",
              " 122,\n",
              " 124,\n",
              " 126,\n",
              " 128,\n",
              " 130,\n",
              " 132,\n",
              " 134,\n",
              " 136,\n",
              " 138,\n",
              " 140,\n",
              " 142,\n",
              " 144,\n",
              " 146,\n",
              " 148,\n",
              " 150,\n",
              " 152,\n",
              " 154,\n",
              " 156,\n",
              " 158,\n",
              " 160,\n",
              " 162,\n",
              " 164,\n",
              " 166,\n",
              " 168,\n",
              " 170,\n",
              " 172,\n",
              " 174,\n",
              " 176,\n",
              " 178,\n",
              " 180,\n",
              " 182,\n",
              " 184,\n",
              " 186,\n",
              " 188,\n",
              " 190,\n",
              " 192,\n",
              " 194,\n",
              " 196,\n",
              " 198,\n",
              " 200,\n",
              " 202,\n",
              " 204,\n",
              " 206,\n",
              " 208,\n",
              " 210,\n",
              " 212,\n",
              " 214,\n",
              " 216,\n",
              " 218,\n",
              " 220,\n",
              " 222,\n",
              " 224,\n",
              " 226,\n",
              " 228,\n",
              " 230,\n",
              " 232,\n",
              " 234,\n",
              " 236,\n",
              " 238,\n",
              " 240,\n",
              " 242,\n",
              " 244,\n",
              " 246,\n",
              " 248,\n",
              " 250,\n",
              " 252,\n",
              " 254,\n",
              " 256,\n",
              " 258,\n",
              " 260,\n",
              " 262,\n",
              " 264,\n",
              " 266,\n",
              " 268,\n",
              " 270,\n",
              " 272,\n",
              " 274,\n",
              " 276,\n",
              " 278,\n",
              " 280,\n",
              " 282,\n",
              " 284,\n",
              " 286,\n",
              " 288,\n",
              " 290,\n",
              " 292,\n",
              " 294,\n",
              " 296,\n",
              " 298,\n",
              " 300,\n",
              " 302,\n",
              " 304,\n",
              " 306,\n",
              " 308,\n",
              " 310,\n",
              " 312,\n",
              " 314,\n",
              " 316,\n",
              " 318,\n",
              " 320,\n",
              " 322,\n",
              " 324,\n",
              " 326,\n",
              " 328,\n",
              " 330,\n",
              " 332,\n",
              " 334,\n",
              " 336,\n",
              " 338,\n",
              " 340,\n",
              " 342,\n",
              " 344,\n",
              " 346,\n",
              " 348,\n",
              " 350,\n",
              " 352,\n",
              " 354,\n",
              " 356,\n",
              " 358,\n",
              " 360,\n",
              " 362,\n",
              " 364,\n",
              " 366,\n",
              " 368,\n",
              " 370,\n",
              " 372,\n",
              " 374,\n",
              " 376,\n",
              " 378,\n",
              " 380,\n",
              " 382,\n",
              " 384,\n",
              " 386,\n",
              " 388,\n",
              " 390,\n",
              " 392,\n",
              " 394,\n",
              " 396,\n",
              " 398,\n",
              " 400,\n",
              " 402,\n",
              " 404,\n",
              " 406,\n",
              " 408,\n",
              " 410,\n",
              " 412,\n",
              " 414,\n",
              " 416,\n",
              " 418,\n",
              " 420,\n",
              " 422,\n",
              " 424,\n",
              " 426,\n",
              " 428,\n",
              " 430,\n",
              " 432,\n",
              " 434,\n",
              " 436,\n",
              " 438,\n",
              " 440,\n",
              " 442,\n",
              " 444,\n",
              " 446,\n",
              " 448,\n",
              " 450,\n",
              " 452,\n",
              " 454,\n",
              " 456,\n",
              " 458,\n",
              " 460,\n",
              " 462,\n",
              " 464,\n",
              " 466,\n",
              " 468,\n",
              " 470,\n",
              " 472,\n",
              " 474,\n",
              " 476,\n",
              " 478,\n",
              " 480,\n",
              " 482,\n",
              " 484,\n",
              " 486,\n",
              " 488,\n",
              " 490,\n",
              " 492,\n",
              " 494,\n",
              " 496,\n",
              " 498,\n",
              " 500,\n",
              " 502,\n",
              " 504,\n",
              " 506,\n",
              " 508,\n",
              " 510,\n",
              " 512,\n",
              " 514,\n",
              " 516,\n",
              " 518,\n",
              " 520,\n",
              " 522,\n",
              " 524,\n",
              " 526,\n",
              " 528,\n",
              " 530,\n",
              " 532,\n",
              " 534,\n",
              " 536,\n",
              " 538,\n",
              " 540,\n",
              " 542,\n",
              " 544,\n",
              " 546,\n",
              " 548,\n",
              " 550,\n",
              " 552,\n",
              " 554,\n",
              " 556,\n",
              " 558,\n",
              " 560,\n",
              " 562,\n",
              " 564,\n",
              " 566,\n",
              " 568,\n",
              " 570,\n",
              " 572,\n",
              " 574,\n",
              " 576,\n",
              " 578,\n",
              " 580,\n",
              " 582,\n",
              " 584,\n",
              " 586,\n",
              " 588,\n",
              " 590,\n",
              " 592,\n",
              " 594,\n",
              " 596,\n",
              " 598,\n",
              " 600,\n",
              " 602,\n",
              " 604,\n",
              " 606,\n",
              " 608,\n",
              " 610,\n",
              " 612,\n",
              " 614,\n",
              " 616,\n",
              " 618,\n",
              " 620,\n",
              " 622,\n",
              " 624,\n",
              " 626,\n",
              " 628,\n",
              " 630,\n",
              " 632,\n",
              " 634,\n",
              " 636,\n",
              " 638,\n",
              " 640,\n",
              " 642,\n",
              " 644,\n",
              " 646,\n",
              " 648,\n",
              " 650,\n",
              " 652,\n",
              " 654,\n",
              " 656,\n",
              " 658,\n",
              " 660,\n",
              " 662,\n",
              " 664,\n",
              " 666,\n",
              " 668,\n",
              " 670,\n",
              " 672,\n",
              " 674,\n",
              " 676,\n",
              " 678,\n",
              " 680,\n",
              " 682,\n",
              " 684,\n",
              " 686,\n",
              " 688,\n",
              " 690,\n",
              " 692,\n",
              " 694,\n",
              " 696,\n",
              " 698,\n",
              " 700,\n",
              " 702,\n",
              " 704,\n",
              " 706,\n",
              " 708,\n",
              " 710,\n",
              " 712,\n",
              " 714,\n",
              " 716,\n",
              " 718,\n",
              " 720,\n",
              " 722,\n",
              " 724,\n",
              " 726,\n",
              " 728,\n",
              " 730,\n",
              " 732,\n",
              " 734,\n",
              " 736,\n",
              " 738,\n",
              " 740,\n",
              " 742,\n",
              " 744,\n",
              " 746,\n",
              " 748,\n",
              " 750,\n",
              " 752,\n",
              " 754,\n",
              " 756,\n",
              " 758,\n",
              " 760,\n",
              " 762,\n",
              " 764,\n",
              " 766,\n",
              " 768,\n",
              " 770,\n",
              " 772,\n",
              " 774,\n",
              " 776,\n",
              " 778,\n",
              " 780,\n",
              " 782,\n",
              " 784,\n",
              " 786,\n",
              " 788,\n",
              " 790,\n",
              " 792,\n",
              " 794,\n",
              " 796,\n",
              " 798,\n",
              " 800,\n",
              " 802,\n",
              " 804,\n",
              " 806,\n",
              " 808,\n",
              " 810,\n",
              " 812,\n",
              " 814,\n",
              " 816,\n",
              " 818,\n",
              " 820,\n",
              " 822,\n",
              " 824,\n",
              " 826,\n",
              " 828,\n",
              " 830,\n",
              " 832,\n",
              " 834,\n",
              " 836,\n",
              " 838,\n",
              " 840,\n",
              " 842,\n",
              " 844,\n",
              " 846,\n",
              " 848,\n",
              " 850,\n",
              " 852,\n",
              " 854,\n",
              " 856,\n",
              " 858,\n",
              " 860,\n",
              " 862,\n",
              " 864,\n",
              " 866,\n",
              " 868,\n",
              " 870,\n",
              " 872,\n",
              " 874,\n",
              " 876,\n",
              " 878,\n",
              " 880,\n",
              " 882,\n",
              " 884,\n",
              " 886,\n",
              " 888,\n",
              " 890,\n",
              " 892,\n",
              " 894,\n",
              " 896,\n",
              " 898,\n",
              " 900,\n",
              " 902,\n",
              " 904,\n",
              " 906,\n",
              " 908,\n",
              " 910,\n",
              " 912,\n",
              " 914,\n",
              " 916,\n",
              " 918,\n",
              " 920,\n",
              " 922,\n",
              " 924,\n",
              " 926,\n",
              " 928,\n",
              " 930,\n",
              " 932,\n",
              " 934,\n",
              " 936,\n",
              " 938,\n",
              " 940,\n",
              " 942,\n",
              " 944,\n",
              " 946,\n",
              " 948,\n",
              " 950,\n",
              " 952,\n",
              " 954,\n",
              " 956,\n",
              " 958,\n",
              " 960,\n",
              " 962,\n",
              " 964,\n",
              " 966,\n",
              " 968,\n",
              " 970,\n",
              " 972,\n",
              " 974,\n",
              " 976,\n",
              " 978,\n",
              " 980,\n",
              " 982,\n",
              " 984,\n",
              " 986,\n",
              " 988,\n",
              " 990,\n",
              " 992,\n",
              " 994,\n",
              " 996,\n",
              " 998]"
            ]
          },
          "metadata": {},
          "execution_count": 79
        }
      ],
      "source": [
        "my_list = []\n",
        "for number in range(0, 1000):\n",
        "    if number % 2 == 0:\n",
        "        my_list.append(number)\n",
        "my_list"
      ]
    },
    {
      "cell_type": "markdown",
      "metadata": {
        "id": "eHxU84wpYZxY"
      },
      "source": [
        "Now the same thing but with list comprehension."
      ]
    },
    {
      "cell_type": "code",
      "execution_count": 80,
      "metadata": {
        "colab": {
          "base_uri": "https://localhost:8080/",
          "height": 0
        },
        "collapsed": true,
        "id": "R33nnOo7YZxY",
        "outputId": "30fea1f5-fc7e-417d-c5a9-f91ddd2cfc46"
      },
      "outputs": [
        {
          "output_type": "execute_result",
          "data": {
            "text/plain": [
              "[0,\n",
              " 2,\n",
              " 4,\n",
              " 6,\n",
              " 8,\n",
              " 10,\n",
              " 12,\n",
              " 14,\n",
              " 16,\n",
              " 18,\n",
              " 20,\n",
              " 22,\n",
              " 24,\n",
              " 26,\n",
              " 28,\n",
              " 30,\n",
              " 32,\n",
              " 34,\n",
              " 36,\n",
              " 38,\n",
              " 40,\n",
              " 42,\n",
              " 44,\n",
              " 46,\n",
              " 48,\n",
              " 50,\n",
              " 52,\n",
              " 54,\n",
              " 56,\n",
              " 58,\n",
              " 60,\n",
              " 62,\n",
              " 64,\n",
              " 66,\n",
              " 68,\n",
              " 70,\n",
              " 72,\n",
              " 74,\n",
              " 76,\n",
              " 78,\n",
              " 80,\n",
              " 82,\n",
              " 84,\n",
              " 86,\n",
              " 88,\n",
              " 90,\n",
              " 92,\n",
              " 94,\n",
              " 96,\n",
              " 98,\n",
              " 100,\n",
              " 102,\n",
              " 104,\n",
              " 106,\n",
              " 108,\n",
              " 110,\n",
              " 112,\n",
              " 114,\n",
              " 116,\n",
              " 118,\n",
              " 120,\n",
              " 122,\n",
              " 124,\n",
              " 126,\n",
              " 128,\n",
              " 130,\n",
              " 132,\n",
              " 134,\n",
              " 136,\n",
              " 138,\n",
              " 140,\n",
              " 142,\n",
              " 144,\n",
              " 146,\n",
              " 148,\n",
              " 150,\n",
              " 152,\n",
              " 154,\n",
              " 156,\n",
              " 158,\n",
              " 160,\n",
              " 162,\n",
              " 164,\n",
              " 166,\n",
              " 168,\n",
              " 170,\n",
              " 172,\n",
              " 174,\n",
              " 176,\n",
              " 178,\n",
              " 180,\n",
              " 182,\n",
              " 184,\n",
              " 186,\n",
              " 188,\n",
              " 190,\n",
              " 192,\n",
              " 194,\n",
              " 196,\n",
              " 198,\n",
              " 200,\n",
              " 202,\n",
              " 204,\n",
              " 206,\n",
              " 208,\n",
              " 210,\n",
              " 212,\n",
              " 214,\n",
              " 216,\n",
              " 218,\n",
              " 220,\n",
              " 222,\n",
              " 224,\n",
              " 226,\n",
              " 228,\n",
              " 230,\n",
              " 232,\n",
              " 234,\n",
              " 236,\n",
              " 238,\n",
              " 240,\n",
              " 242,\n",
              " 244,\n",
              " 246,\n",
              " 248,\n",
              " 250,\n",
              " 252,\n",
              " 254,\n",
              " 256,\n",
              " 258,\n",
              " 260,\n",
              " 262,\n",
              " 264,\n",
              " 266,\n",
              " 268,\n",
              " 270,\n",
              " 272,\n",
              " 274,\n",
              " 276,\n",
              " 278,\n",
              " 280,\n",
              " 282,\n",
              " 284,\n",
              " 286,\n",
              " 288,\n",
              " 290,\n",
              " 292,\n",
              " 294,\n",
              " 296,\n",
              " 298,\n",
              " 300,\n",
              " 302,\n",
              " 304,\n",
              " 306,\n",
              " 308,\n",
              " 310,\n",
              " 312,\n",
              " 314,\n",
              " 316,\n",
              " 318,\n",
              " 320,\n",
              " 322,\n",
              " 324,\n",
              " 326,\n",
              " 328,\n",
              " 330,\n",
              " 332,\n",
              " 334,\n",
              " 336,\n",
              " 338,\n",
              " 340,\n",
              " 342,\n",
              " 344,\n",
              " 346,\n",
              " 348,\n",
              " 350,\n",
              " 352,\n",
              " 354,\n",
              " 356,\n",
              " 358,\n",
              " 360,\n",
              " 362,\n",
              " 364,\n",
              " 366,\n",
              " 368,\n",
              " 370,\n",
              " 372,\n",
              " 374,\n",
              " 376,\n",
              " 378,\n",
              " 380,\n",
              " 382,\n",
              " 384,\n",
              " 386,\n",
              " 388,\n",
              " 390,\n",
              " 392,\n",
              " 394,\n",
              " 396,\n",
              " 398,\n",
              " 400,\n",
              " 402,\n",
              " 404,\n",
              " 406,\n",
              " 408,\n",
              " 410,\n",
              " 412,\n",
              " 414,\n",
              " 416,\n",
              " 418,\n",
              " 420,\n",
              " 422,\n",
              " 424,\n",
              " 426,\n",
              " 428,\n",
              " 430,\n",
              " 432,\n",
              " 434,\n",
              " 436,\n",
              " 438,\n",
              " 440,\n",
              " 442,\n",
              " 444,\n",
              " 446,\n",
              " 448,\n",
              " 450,\n",
              " 452,\n",
              " 454,\n",
              " 456,\n",
              " 458,\n",
              " 460,\n",
              " 462,\n",
              " 464,\n",
              " 466,\n",
              " 468,\n",
              " 470,\n",
              " 472,\n",
              " 474,\n",
              " 476,\n",
              " 478,\n",
              " 480,\n",
              " 482,\n",
              " 484,\n",
              " 486,\n",
              " 488,\n",
              " 490,\n",
              " 492,\n",
              " 494,\n",
              " 496,\n",
              " 498,\n",
              " 500,\n",
              " 502,\n",
              " 504,\n",
              " 506,\n",
              " 508,\n",
              " 510,\n",
              " 512,\n",
              " 514,\n",
              " 516,\n",
              " 518,\n",
              " 520,\n",
              " 522,\n",
              " 524,\n",
              " 526,\n",
              " 528,\n",
              " 530,\n",
              " 532,\n",
              " 534,\n",
              " 536,\n",
              " 538,\n",
              " 540,\n",
              " 542,\n",
              " 544,\n",
              " 546,\n",
              " 548,\n",
              " 550,\n",
              " 552,\n",
              " 554,\n",
              " 556,\n",
              " 558,\n",
              " 560,\n",
              " 562,\n",
              " 564,\n",
              " 566,\n",
              " 568,\n",
              " 570,\n",
              " 572,\n",
              " 574,\n",
              " 576,\n",
              " 578,\n",
              " 580,\n",
              " 582,\n",
              " 584,\n",
              " 586,\n",
              " 588,\n",
              " 590,\n",
              " 592,\n",
              " 594,\n",
              " 596,\n",
              " 598,\n",
              " 600,\n",
              " 602,\n",
              " 604,\n",
              " 606,\n",
              " 608,\n",
              " 610,\n",
              " 612,\n",
              " 614,\n",
              " 616,\n",
              " 618,\n",
              " 620,\n",
              " 622,\n",
              " 624,\n",
              " 626,\n",
              " 628,\n",
              " 630,\n",
              " 632,\n",
              " 634,\n",
              " 636,\n",
              " 638,\n",
              " 640,\n",
              " 642,\n",
              " 644,\n",
              " 646,\n",
              " 648,\n",
              " 650,\n",
              " 652,\n",
              " 654,\n",
              " 656,\n",
              " 658,\n",
              " 660,\n",
              " 662,\n",
              " 664,\n",
              " 666,\n",
              " 668,\n",
              " 670,\n",
              " 672,\n",
              " 674,\n",
              " 676,\n",
              " 678,\n",
              " 680,\n",
              " 682,\n",
              " 684,\n",
              " 686,\n",
              " 688,\n",
              " 690,\n",
              " 692,\n",
              " 694,\n",
              " 696,\n",
              " 698,\n",
              " 700,\n",
              " 702,\n",
              " 704,\n",
              " 706,\n",
              " 708,\n",
              " 710,\n",
              " 712,\n",
              " 714,\n",
              " 716,\n",
              " 718,\n",
              " 720,\n",
              " 722,\n",
              " 724,\n",
              " 726,\n",
              " 728,\n",
              " 730,\n",
              " 732,\n",
              " 734,\n",
              " 736,\n",
              " 738,\n",
              " 740,\n",
              " 742,\n",
              " 744,\n",
              " 746,\n",
              " 748,\n",
              " 750,\n",
              " 752,\n",
              " 754,\n",
              " 756,\n",
              " 758,\n",
              " 760,\n",
              " 762,\n",
              " 764,\n",
              " 766,\n",
              " 768,\n",
              " 770,\n",
              " 772,\n",
              " 774,\n",
              " 776,\n",
              " 778,\n",
              " 780,\n",
              " 782,\n",
              " 784,\n",
              " 786,\n",
              " 788,\n",
              " 790,\n",
              " 792,\n",
              " 794,\n",
              " 796,\n",
              " 798,\n",
              " 800,\n",
              " 802,\n",
              " 804,\n",
              " 806,\n",
              " 808,\n",
              " 810,\n",
              " 812,\n",
              " 814,\n",
              " 816,\n",
              " 818,\n",
              " 820,\n",
              " 822,\n",
              " 824,\n",
              " 826,\n",
              " 828,\n",
              " 830,\n",
              " 832,\n",
              " 834,\n",
              " 836,\n",
              " 838,\n",
              " 840,\n",
              " 842,\n",
              " 844,\n",
              " 846,\n",
              " 848,\n",
              " 850,\n",
              " 852,\n",
              " 854,\n",
              " 856,\n",
              " 858,\n",
              " 860,\n",
              " 862,\n",
              " 864,\n",
              " 866,\n",
              " 868,\n",
              " 870,\n",
              " 872,\n",
              " 874,\n",
              " 876,\n",
              " 878,\n",
              " 880,\n",
              " 882,\n",
              " 884,\n",
              " 886,\n",
              " 888,\n",
              " 890,\n",
              " 892,\n",
              " 894,\n",
              " 896,\n",
              " 898,\n",
              " 900,\n",
              " 902,\n",
              " 904,\n",
              " 906,\n",
              " 908,\n",
              " 910,\n",
              " 912,\n",
              " 914,\n",
              " 916,\n",
              " 918,\n",
              " 920,\n",
              " 922,\n",
              " 924,\n",
              " 926,\n",
              " 928,\n",
              " 930,\n",
              " 932,\n",
              " 934,\n",
              " 936,\n",
              " 938,\n",
              " 940,\n",
              " 942,\n",
              " 944,\n",
              " 946,\n",
              " 948,\n",
              " 950,\n",
              " 952,\n",
              " 954,\n",
              " 956,\n",
              " 958,\n",
              " 960,\n",
              " 962,\n",
              " 964,\n",
              " 966,\n",
              " 968,\n",
              " 970,\n",
              " 972,\n",
              " 974,\n",
              " 976,\n",
              " 978,\n",
              " 980,\n",
              " 982,\n",
              " 984,\n",
              " 986,\n",
              " 988,\n",
              " 990,\n",
              " 992,\n",
              " 994,\n",
              " 996,\n",
              " 998]"
            ]
          },
          "metadata": {},
          "execution_count": 80
        }
      ],
      "source": [
        "my_list = [number for number in range(0,1000) if number % 2 == 0]\n",
        "my_list"
      ]
    },
    {
      "cell_type": "markdown",
      "metadata": {
        "id": "Xn-FXGh-YZxY"
      },
      "source": [
        "# Numerical Python (NumPy)"
      ]
    },
    {
      "cell_type": "code",
      "execution_count": 82,
      "metadata": {
        "id": "F2MoP9uCYZxY"
      },
      "outputs": [],
      "source": [
        "import numpy as np"
      ]
    },
    {
      "cell_type": "markdown",
      "metadata": {
        "id": "IP4AIQoiYZxY"
      },
      "source": [
        "## Creating Arrays\n",
        "\n",
        "Create a list and convert it to a numpy array"
      ]
    },
    {
      "cell_type": "code",
      "execution_count": 83,
      "metadata": {
        "colab": {
          "base_uri": "https://localhost:8080/",
          "height": 0
        },
        "id": "3k-cVTvqYZxY",
        "outputId": "8b687126-5cf0-4699-8f92-7376c1b8ece3"
      },
      "outputs": [
        {
          "output_type": "execute_result",
          "data": {
            "text/plain": [
              "array([1, 2, 3])"
            ]
          },
          "metadata": {},
          "execution_count": 83
        }
      ],
      "source": [
        "mylist = [1, 2, 3]\n",
        "x = np.array(mylist)\n",
        "x"
      ]
    },
    {
      "cell_type": "markdown",
      "metadata": {
        "id": "CP5jiuolYZxY"
      },
      "source": [
        "Or just pass in a list directly"
      ]
    },
    {
      "cell_type": "code",
      "execution_count": 84,
      "metadata": {
        "colab": {
          "base_uri": "https://localhost:8080/",
          "height": 0
        },
        "id": "L_TaCX69YZxZ",
        "outputId": "8947f2ca-f700-445c-9e4a-344736f9224e"
      },
      "outputs": [
        {
          "output_type": "execute_result",
          "data": {
            "text/plain": [
              "array([4, 5, 6])"
            ]
          },
          "metadata": {},
          "execution_count": 84
        }
      ],
      "source": [
        "y = np.array([4, 5, 6])\n",
        "y"
      ]
    },
    {
      "cell_type": "markdown",
      "metadata": {
        "id": "axhpw_NsYZxZ"
      },
      "source": [
        "Pass in a list of lists to create a multidimensional array."
      ]
    },
    {
      "cell_type": "code",
      "execution_count": 85,
      "metadata": {
        "colab": {
          "base_uri": "https://localhost:8080/",
          "height": 0
        },
        "id": "FL0cd2w8YZxZ",
        "outputId": "e9d1fad6-5055-4b78-cb75-ac1b24c5f611"
      },
      "outputs": [
        {
          "output_type": "execute_result",
          "data": {
            "text/plain": [
              "array([[ 7,  8,  9],\n",
              "       [10, 11, 12]])"
            ]
          },
          "metadata": {},
          "execution_count": 85
        }
      ],
      "source": [
        "m = np.array([[7, 8, 9], [10, 11, 12]])\n",
        "m"
      ]
    },
    {
      "cell_type": "markdown",
      "metadata": {
        "id": "rHy-Y9FAYZxZ"
      },
      "source": [
        "Use the shape method to find the dimensions of the array. (rows, columns)"
      ]
    },
    {
      "cell_type": "code",
      "execution_count": 86,
      "metadata": {
        "colab": {
          "base_uri": "https://localhost:8080/",
          "height": 0
        },
        "id": "qCx98YylYZxZ",
        "outputId": "60e7a971-fa4e-454f-ea81-00e649653298"
      },
      "outputs": [
        {
          "output_type": "execute_result",
          "data": {
            "text/plain": [
              "(2, 3)"
            ]
          },
          "metadata": {},
          "execution_count": 86
        }
      ],
      "source": [
        "m.shape"
      ]
    },
    {
      "cell_type": "markdown",
      "metadata": {
        "id": "Qgu0klaRYZxZ"
      },
      "source": [
        "`arange` returns evenly spaced values within a given interval."
      ]
    },
    {
      "cell_type": "code",
      "execution_count": 87,
      "metadata": {
        "colab": {
          "base_uri": "https://localhost:8080/",
          "height": 0
        },
        "id": "essfEvBPYZxZ",
        "outputId": "37af4e18-ff29-4445-8cdf-ad84cc47d488"
      },
      "outputs": [
        {
          "output_type": "execute_result",
          "data": {
            "text/plain": [
              "array([ 0,  2,  4,  6,  8, 10, 12, 14, 16, 18, 20, 22, 24, 26, 28])"
            ]
          },
          "metadata": {},
          "execution_count": 87
        }
      ],
      "source": [
        "n = np.arange(0, 30, 2) # start at 0 count up by 2, stop before 30\n",
        "n"
      ]
    },
    {
      "cell_type": "markdown",
      "metadata": {
        "id": "Kam-kFUwYZxZ"
      },
      "source": [
        "`reshape` returns an array with the same data with a new shape."
      ]
    },
    {
      "cell_type": "code",
      "execution_count": 88,
      "metadata": {
        "colab": {
          "base_uri": "https://localhost:8080/",
          "height": 0
        },
        "id": "FW-AhWZ-YZxZ",
        "outputId": "216a2a2f-8973-43eb-bfca-bbfd3f46b2a8"
      },
      "outputs": [
        {
          "output_type": "execute_result",
          "data": {
            "text/plain": [
              "array([[ 0,  2,  4,  6,  8],\n",
              "       [10, 12, 14, 16, 18],\n",
              "       [20, 22, 24, 26, 28]])"
            ]
          },
          "metadata": {},
          "execution_count": 88
        }
      ],
      "source": [
        "n = n.reshape(3, 5) # reshape array to be 3x5\n",
        "n"
      ]
    },
    {
      "cell_type": "markdown",
      "metadata": {
        "id": "1VcRSBkYYZxa"
      },
      "source": [
        "`linspace` returns evenly spaced numbers over a specified interval."
      ]
    },
    {
      "cell_type": "code",
      "execution_count": 89,
      "metadata": {
        "colab": {
          "base_uri": "https://localhost:8080/",
          "height": 0
        },
        "id": "_iCEWBRkYZxa",
        "outputId": "00f46cd1-fdd8-410f-f71a-f1864a68fec3"
      },
      "outputs": [
        {
          "output_type": "execute_result",
          "data": {
            "text/plain": [
              "array([0. , 0.5, 1. , 1.5, 2. , 2.5, 3. , 3.5, 4. ])"
            ]
          },
          "metadata": {},
          "execution_count": 89
        }
      ],
      "source": [
        "o = np.linspace(0, 4, 9) # return 9 evenly spaced values from 0 to 4\n",
        "o"
      ]
    },
    {
      "cell_type": "markdown",
      "metadata": {
        "id": "YFz7JzKjYZxa"
      },
      "source": [
        "`resize` changes the shape and size of array in-place."
      ]
    },
    {
      "cell_type": "code",
      "execution_count": 90,
      "metadata": {
        "colab": {
          "base_uri": "https://localhost:8080/",
          "height": 0
        },
        "id": "eRiD6mVqYZxa",
        "outputId": "c11fe73d-d36e-4942-fab4-04de38639da6"
      },
      "outputs": [
        {
          "output_type": "execute_result",
          "data": {
            "text/plain": [
              "array([[0. , 0.5, 1. ],\n",
              "       [1.5, 2. , 2.5],\n",
              "       [3. , 3.5, 4. ]])"
            ]
          },
          "metadata": {},
          "execution_count": 90
        }
      ],
      "source": [
        "o.resize(3, 3)\n",
        "o"
      ]
    },
    {
      "cell_type": "markdown",
      "metadata": {
        "id": "KksswjEOYZxa"
      },
      "source": [
        "`ones` returns a new array of given shape and type, filled with ones."
      ]
    },
    {
      "cell_type": "code",
      "execution_count": 91,
      "metadata": {
        "colab": {
          "base_uri": "https://localhost:8080/",
          "height": 0
        },
        "id": "R8gVGEHaYZxa",
        "outputId": "207cea2f-ba54-445b-ee42-8cadad206dbe"
      },
      "outputs": [
        {
          "output_type": "execute_result",
          "data": {
            "text/plain": [
              "array([[1., 1.],\n",
              "       [1., 1.],\n",
              "       [1., 1.]])"
            ]
          },
          "metadata": {},
          "execution_count": 91
        }
      ],
      "source": [
        "np.ones((3, 2))"
      ]
    },
    {
      "cell_type": "markdown",
      "metadata": {
        "id": "qZ6c1M7hYZxb"
      },
      "source": [
        "`zeros` returns a new array of given shape and type, filled with zeros."
      ]
    },
    {
      "cell_type": "code",
      "execution_count": 92,
      "metadata": {
        "colab": {
          "base_uri": "https://localhost:8080/",
          "height": 0
        },
        "id": "qFEQg9v4YZxb",
        "outputId": "613178a6-3ba7-49ee-8ea6-46786d371df7"
      },
      "outputs": [
        {
          "output_type": "execute_result",
          "data": {
            "text/plain": [
              "array([[0., 0., 0.],\n",
              "       [0., 0., 0.]])"
            ]
          },
          "metadata": {},
          "execution_count": 92
        }
      ],
      "source": [
        "np.zeros((2, 3))"
      ]
    },
    {
      "cell_type": "markdown",
      "metadata": {
        "id": "piU-7e7KYZxb"
      },
      "source": [
        "`eye` returns a 2-D array with ones on the diagonal and zeros elsewhere."
      ]
    },
    {
      "cell_type": "code",
      "execution_count": 93,
      "metadata": {
        "colab": {
          "base_uri": "https://localhost:8080/",
          "height": 0
        },
        "id": "VBn5L5YIYZxb",
        "outputId": "b69563db-9cc6-4567-8f76-3f68f69df46b"
      },
      "outputs": [
        {
          "output_type": "execute_result",
          "data": {
            "text/plain": [
              "array([[1., 0., 0.],\n",
              "       [0., 1., 0.],\n",
              "       [0., 0., 1.]])"
            ]
          },
          "metadata": {},
          "execution_count": 93
        }
      ],
      "source": [
        "np.eye(3)"
      ]
    },
    {
      "cell_type": "markdown",
      "metadata": {
        "id": "-QW7b7C6YZxb"
      },
      "source": [
        "`diag` extracts a diagonal or constructs a diagonal array."
      ]
    },
    {
      "cell_type": "code",
      "execution_count": 94,
      "metadata": {
        "colab": {
          "base_uri": "https://localhost:8080/",
          "height": 0
        },
        "id": "dTnCx6tWYZxc",
        "outputId": "258e7fc5-6308-42c0-96b4-7587df0f4370"
      },
      "outputs": [
        {
          "output_type": "execute_result",
          "data": {
            "text/plain": [
              "array([[4, 0, 0],\n",
              "       [0, 5, 0],\n",
              "       [0, 0, 6]])"
            ]
          },
          "metadata": {},
          "execution_count": 94
        }
      ],
      "source": [
        "np.diag(y)"
      ]
    },
    {
      "cell_type": "markdown",
      "metadata": {
        "id": "d2KR9g2LYZxc"
      },
      "source": [
        "Create an array using repeating list (or see `np.tile`)"
      ]
    },
    {
      "cell_type": "code",
      "execution_count": 95,
      "metadata": {
        "colab": {
          "base_uri": "https://localhost:8080/",
          "height": 0
        },
        "id": "5k1A1WjFYZxc",
        "outputId": "a586becc-5fda-48be-dbf4-2bf26abc270c"
      },
      "outputs": [
        {
          "output_type": "execute_result",
          "data": {
            "text/plain": [
              "array([1, 2, 3, 1, 2, 3, 1, 2, 3])"
            ]
          },
          "metadata": {},
          "execution_count": 95
        }
      ],
      "source": [
        "np.array([1, 2, 3] * 3)"
      ]
    },
    {
      "cell_type": "markdown",
      "metadata": {
        "id": "EkPKkocWYZxc"
      },
      "source": [
        "Repeat elements of an array using `repeat`."
      ]
    },
    {
      "cell_type": "code",
      "execution_count": 96,
      "metadata": {
        "colab": {
          "base_uri": "https://localhost:8080/",
          "height": 0
        },
        "id": "nzufBIO1YZxc",
        "outputId": "c0f8979e-5b80-490e-aa1d-85c4b6e7dc01"
      },
      "outputs": [
        {
          "output_type": "execute_result",
          "data": {
            "text/plain": [
              "array([1, 1, 1, 2, 2, 2, 3, 3, 3])"
            ]
          },
          "metadata": {},
          "execution_count": 96
        }
      ],
      "source": [
        "np.repeat([1, 2, 3], 3)"
      ]
    },
    {
      "cell_type": "markdown",
      "metadata": {
        "id": "FILw4OyUYZxc"
      },
      "source": [
        "### Combining Arrays"
      ]
    },
    {
      "cell_type": "code",
      "execution_count": 97,
      "metadata": {
        "colab": {
          "base_uri": "https://localhost:8080/",
          "height": 0
        },
        "id": "jBkY7Aw5YZxc",
        "outputId": "f517dfd3-6af5-482c-b78f-e2deef121eeb"
      },
      "outputs": [
        {
          "output_type": "execute_result",
          "data": {
            "text/plain": [
              "array([[1, 1, 1],\n",
              "       [1, 1, 1]])"
            ]
          },
          "metadata": {},
          "execution_count": 97
        }
      ],
      "source": [
        "p = np.ones([2, 3], int)\n",
        "p"
      ]
    },
    {
      "cell_type": "markdown",
      "metadata": {
        "id": "pMNWmIlYYZxc"
      },
      "source": [
        "Use `vstack` to stack arrays in sequence vertically (row wise)."
      ]
    },
    {
      "cell_type": "code",
      "execution_count": 98,
      "metadata": {
        "colab": {
          "base_uri": "https://localhost:8080/",
          "height": 0
        },
        "id": "HAHH8PW1YZxc",
        "outputId": "7e930bbd-2d03-4e8d-8173-de0cafbec4a2"
      },
      "outputs": [
        {
          "output_type": "execute_result",
          "data": {
            "text/plain": [
              "array([[1, 1, 1],\n",
              "       [1, 1, 1],\n",
              "       [2, 2, 2],\n",
              "       [2, 2, 2]])"
            ]
          },
          "metadata": {},
          "execution_count": 98
        }
      ],
      "source": [
        "np.vstack([p, 2*p])"
      ]
    },
    {
      "cell_type": "markdown",
      "metadata": {
        "id": "LySQSWKyYZxd"
      },
      "source": [
        "Use `hstack` to stack arrays in sequence horizontally (column wise)."
      ]
    },
    {
      "cell_type": "code",
      "execution_count": 99,
      "metadata": {
        "colab": {
          "base_uri": "https://localhost:8080/",
          "height": 0
        },
        "id": "2-MLkAQUYZxd",
        "outputId": "29275c9b-0fcf-43ce-cc35-d5f73ca4000a"
      },
      "outputs": [
        {
          "output_type": "execute_result",
          "data": {
            "text/plain": [
              "array([[1, 1, 1, 2, 2, 2],\n",
              "       [1, 1, 1, 2, 2, 2]])"
            ]
          },
          "metadata": {},
          "execution_count": 99
        }
      ],
      "source": [
        "np.hstack([p, 2*p])"
      ]
    },
    {
      "cell_type": "markdown",
      "metadata": {
        "id": "lRGRPCCQYZxd"
      },
      "source": [
        "## Operations\n",
        "\n",
        "Use `+`, `-`, `*`, `/` and `**` to perform element wise addition, subtraction, multiplication, division and power."
      ]
    },
    {
      "cell_type": "code",
      "execution_count": 100,
      "metadata": {
        "colab": {
          "base_uri": "https://localhost:8080/",
          "height": 0
        },
        "id": "kI9RgdngYZxd",
        "outputId": "4537a780-4eeb-4936-eb7a-5732e340b6e0"
      },
      "outputs": [
        {
          "output_type": "stream",
          "name": "stdout",
          "text": [
            "[5 7 9]\n",
            "[-3 -3 -3]\n",
            "[ 4 10 18]\n",
            "[0.25 0.4  0.5 ]\n",
            "[1 4 9]\n"
          ]
        }
      ],
      "source": [
        "print(x + y) # elementwise addition     [1 2 3] + [4 5 6] = [5  7  9]\n",
        "print(x - y) # elementwise subtraction  [1 2 3] - [4 5 6] = [-3 -3 -3]\n",
        "\n",
        "print(x * y) # elementwise multiplication  [1 2 3] * [4 5 6] = [4  10  18]\n",
        "print(x / y) # elementwise divison         [1 2 3] / [4 5 6] = [0.25  0.4  0.5]\n",
        "\n",
        "print(x**2) # elementwise power  [1 2 3] ^2 =  [1 4 9]"
      ]
    },
    {
      "cell_type": "markdown",
      "metadata": {
        "id": "nVQCdqNKYZxd"
      },
      "source": [
        "**Dot Product:**\n",
        "\n",
        "$ \\begin{bmatrix}x_1 \\ x_2 \\ x_3\\end{bmatrix}\n",
        "\\cdot\n",
        "\\begin{bmatrix}y_1 \\\\ y_2 \\\\ y_3\\end{bmatrix}\n",
        "= x_1 y_1 + x_2 y_2 + x_3 y_3$"
      ]
    },
    {
      "cell_type": "code",
      "execution_count": 101,
      "metadata": {
        "colab": {
          "base_uri": "https://localhost:8080/",
          "height": 0
        },
        "id": "cl2fXUZsYZxd",
        "outputId": "f6d451f1-c059-4e0d-bb53-aebdf2aff8b8"
      },
      "outputs": [
        {
          "output_type": "stream",
          "name": "stdout",
          "text": [
            "2\n"
          ]
        }
      ],
      "source": [
        "x.dot(y) # dot product  1*4 + 2*5 + 3*6\n",
        "\n",
        "z = np.array([y, y**2])\n",
        "print(len(z)) # number of rows of array"
      ]
    },
    {
      "cell_type": "markdown",
      "metadata": {
        "id": "JOJbumudYZxd"
      },
      "source": [
        "Let's look at transposing arrays. Transposing permutes the dimensions of the array."
      ]
    },
    {
      "cell_type": "code",
      "execution_count": 102,
      "metadata": {
        "colab": {
          "base_uri": "https://localhost:8080/",
          "height": 0
        },
        "id": "9l1U19ZAYZxe",
        "outputId": "d3bd5427-6e0d-423b-b937-10499647a6ff"
      },
      "outputs": [
        {
          "output_type": "execute_result",
          "data": {
            "text/plain": [
              "array([[ 4,  5,  6],\n",
              "       [16, 25, 36]])"
            ]
          },
          "metadata": {},
          "execution_count": 102
        }
      ],
      "source": [
        "z = np.array([y, y**2])\n",
        "z"
      ]
    },
    {
      "cell_type": "markdown",
      "metadata": {
        "id": "NptST0n_YZxe"
      },
      "source": [
        "The shape of array `z` is `(2,3)` before transposing."
      ]
    },
    {
      "cell_type": "code",
      "execution_count": 103,
      "metadata": {
        "colab": {
          "base_uri": "https://localhost:8080/",
          "height": 0
        },
        "id": "eCkWiic-YZxe",
        "outputId": "cdd1560c-b170-46df-884c-59d867371a7d"
      },
      "outputs": [
        {
          "output_type": "execute_result",
          "data": {
            "text/plain": [
              "(2, 3)"
            ]
          },
          "metadata": {},
          "execution_count": 103
        }
      ],
      "source": [
        "z.shape"
      ]
    },
    {
      "cell_type": "markdown",
      "metadata": {
        "id": "-t7FWQO6YZxe"
      },
      "source": [
        "Use `.T` to get the transpose."
      ]
    },
    {
      "cell_type": "code",
      "execution_count": 104,
      "metadata": {
        "colab": {
          "base_uri": "https://localhost:8080/",
          "height": 0
        },
        "id": "Edna3O6cYZxe",
        "outputId": "8df948de-452c-4a72-bd80-5fccb4aa4bc2"
      },
      "outputs": [
        {
          "output_type": "execute_result",
          "data": {
            "text/plain": [
              "array([[ 4, 16],\n",
              "       [ 5, 25],\n",
              "       [ 6, 36]])"
            ]
          },
          "metadata": {},
          "execution_count": 104
        }
      ],
      "source": [
        "z.T"
      ]
    },
    {
      "cell_type": "markdown",
      "metadata": {
        "id": "EQz6CC3NYZxe"
      },
      "source": [
        "The number of rows has swapped with the number of columns."
      ]
    },
    {
      "cell_type": "code",
      "execution_count": 105,
      "metadata": {
        "colab": {
          "base_uri": "https://localhost:8080/",
          "height": 0
        },
        "id": "KSOOhTo0YZxe",
        "outputId": "9ad94b5e-142d-48c2-83a9-bc502dc92d01"
      },
      "outputs": [
        {
          "output_type": "execute_result",
          "data": {
            "text/plain": [
              "(3, 2)"
            ]
          },
          "metadata": {},
          "execution_count": 105
        }
      ],
      "source": [
        "z.T.shape"
      ]
    },
    {
      "cell_type": "markdown",
      "metadata": {
        "id": "ySsVaUk8YZxe"
      },
      "source": [
        "Use `.dtype` to see the data type of the elements in the array."
      ]
    },
    {
      "cell_type": "code",
      "execution_count": 106,
      "metadata": {
        "colab": {
          "base_uri": "https://localhost:8080/",
          "height": 0
        },
        "id": "o9JQnjgqYZxf",
        "outputId": "bf901fc6-9f6b-4b61-b8ce-1653305a4e3b"
      },
      "outputs": [
        {
          "output_type": "execute_result",
          "data": {
            "text/plain": [
              "dtype('int64')"
            ]
          },
          "metadata": {},
          "execution_count": 106
        }
      ],
      "source": [
        "z.dtype"
      ]
    },
    {
      "cell_type": "markdown",
      "metadata": {
        "id": "OTUvVm9RYZxf"
      },
      "source": [
        "Use `.astype` to cast to a specific type."
      ]
    },
    {
      "cell_type": "code",
      "execution_count": 107,
      "metadata": {
        "colab": {
          "base_uri": "https://localhost:8080/",
          "height": 0
        },
        "id": "UmX2xd1eYZxf",
        "outputId": "77c783f8-d5e6-4a2d-bef9-33e2efec1821"
      },
      "outputs": [
        {
          "output_type": "execute_result",
          "data": {
            "text/plain": [
              "dtype('float32')"
            ]
          },
          "metadata": {},
          "execution_count": 107
        }
      ],
      "source": [
        "z = z.astype('f')\n",
        "z.dtype"
      ]
    },
    {
      "cell_type": "markdown",
      "metadata": {
        "id": "xQGnG_8CYZxf"
      },
      "source": [
        "## Math Functions\n",
        "\n",
        "Numpy has many built in math functions that can be performed on arrays."
      ]
    },
    {
      "cell_type": "code",
      "execution_count": 108,
      "metadata": {
        "colab": {
          "base_uri": "https://localhost:8080/",
          "height": 0
        },
        "id": "lrplwA5nYZxf",
        "outputId": "dfc77137-3507-48a0-eba9-4aa06785ee08"
      },
      "outputs": [
        {
          "output_type": "execute_result",
          "data": {
            "text/plain": [
              "3.2619012860600183"
            ]
          },
          "metadata": {},
          "execution_count": 108
        }
      ],
      "source": [
        "a = np.array([-4, -2, 1, 3, 5])\n",
        "a.sum()\n",
        "a.max()\n",
        "a.min()\n",
        "a.mean()\n",
        "a.std()"
      ]
    },
    {
      "cell_type": "markdown",
      "metadata": {
        "id": "cy8wMKJFYZxf"
      },
      "source": [
        "`argmax` and `argmin` return the index of the maximum and minimum values in the array."
      ]
    },
    {
      "cell_type": "code",
      "execution_count": 109,
      "metadata": {
        "colab": {
          "base_uri": "https://localhost:8080/",
          "height": 0
        },
        "id": "dXBRzcKpYZxf",
        "outputId": "b5a938fd-4a61-47a6-cab5-c6701ea9c6ce"
      },
      "outputs": [
        {
          "output_type": "execute_result",
          "data": {
            "text/plain": [
              "0"
            ]
          },
          "metadata": {},
          "execution_count": 109
        }
      ],
      "source": [
        "a.argmax()\n",
        "a.argmin()"
      ]
    },
    {
      "cell_type": "markdown",
      "metadata": {
        "id": "q0B-AZTdYZxf"
      },
      "source": [
        "## Indexing / Slicing"
      ]
    },
    {
      "cell_type": "code",
      "execution_count": 110,
      "metadata": {
        "colab": {
          "base_uri": "https://localhost:8080/",
          "height": 0
        },
        "id": "xda7Gd8lYZxf",
        "outputId": "3bf14a8a-bede-44d4-9587-8469ed37eeeb"
      },
      "outputs": [
        {
          "output_type": "execute_result",
          "data": {
            "text/plain": [
              "array([  0,   1,   4,   9,  16,  25,  36,  49,  64,  81, 100, 121, 144])"
            ]
          },
          "metadata": {},
          "execution_count": 110
        }
      ],
      "source": [
        "s = np.arange(13)**2\n",
        "s"
      ]
    },
    {
      "cell_type": "markdown",
      "metadata": {
        "id": "wr3DP-piYZxg"
      },
      "source": [
        "Use bracket notation to get the value at a specific index. Remember that indexing starts at 0."
      ]
    },
    {
      "cell_type": "code",
      "execution_count": 111,
      "metadata": {
        "id": "0HqdJ0e5YZxg",
        "colab": {
          "base_uri": "https://localhost:8080/",
          "height": 0
        },
        "outputId": "d76735ee-3558-4c43-b62d-81d1f3cc6a09"
      },
      "outputs": [
        {
          "output_type": "execute_result",
          "data": {
            "text/plain": [
              "(0, 16, 144)"
            ]
          },
          "metadata": {},
          "execution_count": 111
        }
      ],
      "source": [
        "s[0], s[4], s[-1]"
      ]
    },
    {
      "cell_type": "markdown",
      "metadata": {
        "id": "cp2yuEn8YZxg"
      },
      "source": [
        "Use `:` to indicate a range. `array[start:stop]`\n",
        "\n",
        "\n",
        "Leaving `start` or `stop` empty will default to the beginning/end of the array."
      ]
    },
    {
      "cell_type": "code",
      "execution_count": 112,
      "metadata": {
        "colab": {
          "base_uri": "https://localhost:8080/",
          "height": 0
        },
        "id": "KoOCnpuyYZxg",
        "outputId": "31346ceb-1bc9-4f3f-947d-51f3ad16dc61"
      },
      "outputs": [
        {
          "output_type": "execute_result",
          "data": {
            "text/plain": [
              "array([ 1,  4,  9, 16])"
            ]
          },
          "metadata": {},
          "execution_count": 112
        }
      ],
      "source": [
        "s[1:5]"
      ]
    },
    {
      "cell_type": "markdown",
      "metadata": {
        "id": "jaxUMnldYZxg"
      },
      "source": [
        "Use negatives to count from the back."
      ]
    },
    {
      "cell_type": "code",
      "execution_count": 113,
      "metadata": {
        "colab": {
          "base_uri": "https://localhost:8080/",
          "height": 0
        },
        "id": "5iM2VtcNYZxg",
        "outputId": "bb669c27-cde3-45ad-bd41-0986a0c7d7db"
      },
      "outputs": [
        {
          "output_type": "execute_result",
          "data": {
            "text/plain": [
              "array([ 81, 100, 121, 144])"
            ]
          },
          "metadata": {},
          "execution_count": 113
        }
      ],
      "source": [
        "s[-4:]"
      ]
    },
    {
      "cell_type": "markdown",
      "metadata": {
        "id": "W2qmC6OHYZxg"
      },
      "source": [
        "A second `:` can be used to indicate step-size. `array[start:stop:stepsize]`\n",
        "\n",
        "Here we are starting 5th element from the end, and counting backwards by 2 until the beginning of the array is reached."
      ]
    },
    {
      "cell_type": "code",
      "execution_count": 114,
      "metadata": {
        "colab": {
          "base_uri": "https://localhost:8080/",
          "height": 0
        },
        "id": "XafuGQw-YZxg",
        "outputId": "0053bd15-1b2c-4028-e64d-0d4e044303de"
      },
      "outputs": [
        {
          "output_type": "execute_result",
          "data": {
            "text/plain": [
              "array([64, 36, 16,  4,  0])"
            ]
          },
          "metadata": {},
          "execution_count": 114
        }
      ],
      "source": [
        "s[-5::-2]"
      ]
    },
    {
      "cell_type": "markdown",
      "metadata": {
        "id": "cva5SYMPYZxg"
      },
      "source": [
        "Let's look at a multidimensional array."
      ]
    },
    {
      "cell_type": "code",
      "execution_count": 115,
      "metadata": {
        "colab": {
          "base_uri": "https://localhost:8080/",
          "height": 0
        },
        "id": "MSbfTEo8YZxh",
        "outputId": "cbd86939-d2e5-4fb7-cfa6-f1eab647147d"
      },
      "outputs": [
        {
          "output_type": "execute_result",
          "data": {
            "text/plain": [
              "array([[ 0,  1,  2,  3,  4,  5],\n",
              "       [ 6,  7,  8,  9, 10, 11],\n",
              "       [12, 13, 14, 15, 16, 17],\n",
              "       [18, 19, 20, 21, 22, 23],\n",
              "       [24, 25, 26, 27, 28, 29],\n",
              "       [30, 31, 32, 33, 34, 35]])"
            ]
          },
          "metadata": {},
          "execution_count": 115
        }
      ],
      "source": [
        "r = np.arange(36)\n",
        "r.resize((6, 6))\n",
        "r"
      ]
    },
    {
      "cell_type": "markdown",
      "metadata": {
        "id": "e-cORJB2YZxh"
      },
      "source": [
        "Use bracket notation to slice: `array[row, column]`"
      ]
    },
    {
      "cell_type": "code",
      "execution_count": 116,
      "metadata": {
        "colab": {
          "base_uri": "https://localhost:8080/",
          "height": 0
        },
        "id": "8JAuWNt8YZxh",
        "outputId": "ee7238a8-9d94-4954-beb1-699c55efb77e"
      },
      "outputs": [
        {
          "output_type": "execute_result",
          "data": {
            "text/plain": [
              "14"
            ]
          },
          "metadata": {},
          "execution_count": 116
        }
      ],
      "source": [
        "r[2, 2]"
      ]
    },
    {
      "cell_type": "markdown",
      "metadata": {
        "id": "9-Dss3RLYZxh"
      },
      "source": [
        "And use : to select a range of rows or columns"
      ]
    },
    {
      "cell_type": "code",
      "execution_count": 117,
      "metadata": {
        "colab": {
          "base_uri": "https://localhost:8080/",
          "height": 0
        },
        "id": "z8WKNZpIYZxh",
        "outputId": "0f2d8d07-94e8-40de-ff60-9facda050cba"
      },
      "outputs": [
        {
          "output_type": "execute_result",
          "data": {
            "text/plain": [
              "array([21, 22, 23])"
            ]
          },
          "metadata": {},
          "execution_count": 117
        }
      ],
      "source": [
        "r[3, 3:6]"
      ]
    },
    {
      "cell_type": "markdown",
      "metadata": {
        "id": "MLA_Gpp3YZxh"
      },
      "source": [
        "Here we are selecting all the rows up to (and not including) row 2, and all the columns up to (and not including) the last column."
      ]
    },
    {
      "cell_type": "code",
      "execution_count": 118,
      "metadata": {
        "colab": {
          "base_uri": "https://localhost:8080/",
          "height": 0
        },
        "id": "86uEfAV9YZxh",
        "outputId": "3ff66703-4cc5-44b0-d8c8-9de50d6867ae"
      },
      "outputs": [
        {
          "output_type": "execute_result",
          "data": {
            "text/plain": [
              "array([[ 0,  1,  2,  3,  4],\n",
              "       [ 6,  7,  8,  9, 10]])"
            ]
          },
          "metadata": {},
          "execution_count": 118
        }
      ],
      "source": [
        "r[:2, :-1]"
      ]
    },
    {
      "cell_type": "markdown",
      "metadata": {
        "id": "rfCZswZ-YZxi"
      },
      "source": [
        "This is a slice of the last row, and only every other element."
      ]
    },
    {
      "cell_type": "code",
      "execution_count": 119,
      "metadata": {
        "colab": {
          "base_uri": "https://localhost:8080/",
          "height": 0
        },
        "id": "DKrHWQVhYZxi",
        "outputId": "6166aa07-349c-4e4b-d5cf-02b1a5f3c934"
      },
      "outputs": [
        {
          "output_type": "execute_result",
          "data": {
            "text/plain": [
              "array([30, 32, 34])"
            ]
          },
          "metadata": {},
          "execution_count": 119
        }
      ],
      "source": [
        "r[-1, ::2]"
      ]
    },
    {
      "cell_type": "markdown",
      "metadata": {
        "id": "Bcors83pYZxi"
      },
      "source": [
        "We can also perform conditional indexing. Here we are selecting values from the array that are greater than 30. (Also see `np.where`)"
      ]
    },
    {
      "cell_type": "code",
      "execution_count": 120,
      "metadata": {
        "colab": {
          "base_uri": "https://localhost:8080/",
          "height": 0
        },
        "id": "E8cK_KbzYZxi",
        "outputId": "ee987a8a-1ada-4670-8df5-7a75c8764fa8"
      },
      "outputs": [
        {
          "output_type": "execute_result",
          "data": {
            "text/plain": [
              "array([31, 32, 33, 34, 35])"
            ]
          },
          "metadata": {},
          "execution_count": 120
        }
      ],
      "source": [
        "r[r > 30]"
      ]
    },
    {
      "cell_type": "markdown",
      "metadata": {
        "id": "UEcBjcqLYZxi"
      },
      "source": [
        "Here we are assigning all values in the array that are greater than 30 to the value of 30."
      ]
    },
    {
      "cell_type": "code",
      "execution_count": 121,
      "metadata": {
        "colab": {
          "base_uri": "https://localhost:8080/",
          "height": 0
        },
        "id": "ytOHHwRAYZxi",
        "outputId": "84eae1ce-20d3-4ce6-86f7-38320ec4d240"
      },
      "outputs": [
        {
          "output_type": "execute_result",
          "data": {
            "text/plain": [
              "array([[ 0,  1,  2,  3,  4,  5],\n",
              "       [ 6,  7,  8,  9, 10, 11],\n",
              "       [12, 13, 14, 15, 16, 17],\n",
              "       [18, 19, 20, 21, 22, 23],\n",
              "       [24, 25, 26, 27, 28, 29],\n",
              "       [30, 30, 30, 30, 30, 30]])"
            ]
          },
          "metadata": {},
          "execution_count": 121
        }
      ],
      "source": [
        "r[r > 30] = 30\n",
        "r"
      ]
    },
    {
      "cell_type": "markdown",
      "metadata": {
        "id": "Lxy5PZS_YZxi"
      },
      "source": [
        "## Copying Data\n",
        "\n",
        "Be careful with copying and modifying arrays in NumPy!\n",
        "\n",
        "\n",
        "`r2` is a slice of `r`"
      ]
    },
    {
      "cell_type": "code",
      "execution_count": 122,
      "metadata": {
        "colab": {
          "base_uri": "https://localhost:8080/",
          "height": 0
        },
        "id": "UWCx1wfyYZxi",
        "outputId": "52a77dfd-f86d-4b92-db48-ff995917c9bf"
      },
      "outputs": [
        {
          "output_type": "execute_result",
          "data": {
            "text/plain": [
              "array([[ 0,  1,  2],\n",
              "       [ 6,  7,  8],\n",
              "       [12, 13, 14]])"
            ]
          },
          "metadata": {},
          "execution_count": 122
        }
      ],
      "source": [
        "r2 = r[:3,:3]\n",
        "r2"
      ]
    },
    {
      "cell_type": "markdown",
      "metadata": {
        "id": "gmC7LyQyYZxi"
      },
      "source": [
        "Set this slice's values to zero ([:] selects the entire array)"
      ]
    },
    {
      "cell_type": "code",
      "execution_count": 123,
      "metadata": {
        "colab": {
          "base_uri": "https://localhost:8080/",
          "height": 0
        },
        "id": "Bz3L5n4NYZxi",
        "outputId": "8d633bfa-cbad-460c-8881-1dcd9bf08bd2"
      },
      "outputs": [
        {
          "output_type": "execute_result",
          "data": {
            "text/plain": [
              "array([[0, 0, 0],\n",
              "       [0, 0, 0],\n",
              "       [0, 0, 0]])"
            ]
          },
          "metadata": {},
          "execution_count": 123
        }
      ],
      "source": [
        "r2[:] = 0\n",
        "r2"
      ]
    },
    {
      "cell_type": "markdown",
      "metadata": {
        "id": "rJRqfsQYYZxj"
      },
      "source": [
        "`r` has also been changed!"
      ]
    },
    {
      "cell_type": "code",
      "execution_count": 124,
      "metadata": {
        "colab": {
          "base_uri": "https://localhost:8080/",
          "height": 0
        },
        "id": "7r2Empo3YZxj",
        "outputId": "1136be93-fb8a-47f6-921b-32eca3249df6"
      },
      "outputs": [
        {
          "output_type": "execute_result",
          "data": {
            "text/plain": [
              "array([[ 0,  0,  0,  3,  4,  5],\n",
              "       [ 0,  0,  0,  9, 10, 11],\n",
              "       [ 0,  0,  0, 15, 16, 17],\n",
              "       [18, 19, 20, 21, 22, 23],\n",
              "       [24, 25, 26, 27, 28, 29],\n",
              "       [30, 30, 30, 30, 30, 30]])"
            ]
          },
          "metadata": {},
          "execution_count": 124
        }
      ],
      "source": [
        "r"
      ]
    },
    {
      "cell_type": "markdown",
      "metadata": {
        "id": "C5euVOcUYZxj"
      },
      "source": [
        "To avoid this, use `r.copy` to create a copy that will not affect the original array"
      ]
    },
    {
      "cell_type": "code",
      "execution_count": 125,
      "metadata": {
        "colab": {
          "base_uri": "https://localhost:8080/",
          "height": 0
        },
        "id": "o0afwARXYZxj",
        "outputId": "42916af5-2ba1-41dc-d561-f938a01c8bc2"
      },
      "outputs": [
        {
          "output_type": "execute_result",
          "data": {
            "text/plain": [
              "array([[ 0,  0,  0,  3,  4,  5],\n",
              "       [ 0,  0,  0,  9, 10, 11],\n",
              "       [ 0,  0,  0, 15, 16, 17],\n",
              "       [18, 19, 20, 21, 22, 23],\n",
              "       [24, 25, 26, 27, 28, 29],\n",
              "       [30, 30, 30, 30, 30, 30]])"
            ]
          },
          "metadata": {},
          "execution_count": 125
        }
      ],
      "source": [
        "r_copy = r.copy()\n",
        "r_copy"
      ]
    },
    {
      "cell_type": "markdown",
      "metadata": {
        "id": "Zj3apcLiYZxj"
      },
      "source": [
        "Now when r_copy is modified, r will not be changed."
      ]
    },
    {
      "cell_type": "code",
      "execution_count": 126,
      "metadata": {
        "colab": {
          "base_uri": "https://localhost:8080/",
          "height": 0
        },
        "id": "6LTRcQVJYZxj",
        "outputId": "96eaadb6-7cc9-4797-d2f7-4e745bf2faf7"
      },
      "outputs": [
        {
          "output_type": "stream",
          "name": "stdout",
          "text": [
            "[[10 10 10 10 10 10]\n",
            " [10 10 10 10 10 10]\n",
            " [10 10 10 10 10 10]\n",
            " [10 10 10 10 10 10]\n",
            " [10 10 10 10 10 10]\n",
            " [10 10 10 10 10 10]] \n",
            "\n",
            "[[ 0  0  0  3  4  5]\n",
            " [ 0  0  0  9 10 11]\n",
            " [ 0  0  0 15 16 17]\n",
            " [18 19 20 21 22 23]\n",
            " [24 25 26 27 28 29]\n",
            " [30 30 30 30 30 30]]\n"
          ]
        }
      ],
      "source": [
        "r_copy[:] = 10\n",
        "print(r_copy, '\\n')\n",
        "print(r)"
      ]
    },
    {
      "cell_type": "markdown",
      "metadata": {
        "id": "jb68Jl7nYZxj"
      },
      "source": [
        "### Iterating Over Arrays\n",
        "\n",
        "Let's create a new 4 by 3 array of random numbers 0-9."
      ]
    },
    {
      "cell_type": "code",
      "execution_count": 127,
      "metadata": {
        "colab": {
          "base_uri": "https://localhost:8080/",
          "height": 0
        },
        "id": "Svbsybd_YZxj",
        "outputId": "f01e5a1a-81dc-48c5-fc97-70fbe3640fa1"
      },
      "outputs": [
        {
          "output_type": "execute_result",
          "data": {
            "text/plain": [
              "array([[9, 2, 3],\n",
              "       [4, 3, 3],\n",
              "       [8, 4, 7],\n",
              "       [7, 1, 8]])"
            ]
          },
          "metadata": {},
          "execution_count": 127
        }
      ],
      "source": [
        "test = np.random.randint(0, 10, (4,3))\n",
        "test"
      ]
    },
    {
      "cell_type": "markdown",
      "metadata": {
        "id": "UNODVBPzYZxj"
      },
      "source": [
        "Iterate by row:"
      ]
    },
    {
      "cell_type": "code",
      "execution_count": 128,
      "metadata": {
        "colab": {
          "base_uri": "https://localhost:8080/",
          "height": 0
        },
        "id": "QxRZe-FpYZxj",
        "outputId": "1d3a94c3-1ce1-49ce-946b-c358fb5330b2"
      },
      "outputs": [
        {
          "output_type": "stream",
          "name": "stdout",
          "text": [
            "[9 2 3]\n",
            "[4 3 3]\n",
            "[8 4 7]\n",
            "[7 1 8]\n"
          ]
        }
      ],
      "source": [
        "for row in test:\n",
        "    print(row)"
      ]
    },
    {
      "cell_type": "markdown",
      "metadata": {
        "id": "VVFXjVqTYZxk"
      },
      "source": [
        "Iterate by index:"
      ]
    },
    {
      "cell_type": "code",
      "execution_count": 129,
      "metadata": {
        "colab": {
          "base_uri": "https://localhost:8080/",
          "height": 0
        },
        "id": "gRInuwmdYZxk",
        "outputId": "fb134009-ff58-45dd-e046-adf109487576"
      },
      "outputs": [
        {
          "output_type": "stream",
          "name": "stdout",
          "text": [
            "[9 2 3]\n",
            "[4 3 3]\n",
            "[8 4 7]\n",
            "[7 1 8]\n"
          ]
        }
      ],
      "source": [
        "for i in range(len(test)):\n",
        "    print(test[i])"
      ]
    },
    {
      "cell_type": "markdown",
      "metadata": {
        "id": "tYn_kEEuYZxk"
      },
      "source": [
        "Iterate by row and index:"
      ]
    },
    {
      "cell_type": "code",
      "execution_count": 130,
      "metadata": {
        "colab": {
          "base_uri": "https://localhost:8080/",
          "height": 0
        },
        "id": "9jpdX-rlYZxk",
        "outputId": "2d89451a-1ad4-4739-fc98-8a4af31e67ce"
      },
      "outputs": [
        {
          "output_type": "stream",
          "name": "stdout",
          "text": [
            "row 0 is [9 2 3]\n",
            "row 1 is [4 3 3]\n",
            "row 2 is [8 4 7]\n",
            "row 3 is [7 1 8]\n"
          ]
        }
      ],
      "source": [
        "for i, row in enumerate(test):\n",
        "    print('row', i, 'is', row)"
      ]
    },
    {
      "cell_type": "markdown",
      "metadata": {
        "id": "9iiLEzzrYZxk"
      },
      "source": [
        "Use `zip` to iterate over multiple iterables."
      ]
    },
    {
      "cell_type": "code",
      "execution_count": 131,
      "metadata": {
        "colab": {
          "base_uri": "https://localhost:8080/",
          "height": 0
        },
        "id": "XKHb37bkYZxl",
        "outputId": "8c3c37b9-a497-44c5-aea4-b5eb34fd9390"
      },
      "outputs": [
        {
          "output_type": "execute_result",
          "data": {
            "text/plain": [
              "array([[81,  4,  9],\n",
              "       [16,  9,  9],\n",
              "       [64, 16, 49],\n",
              "       [49,  1, 64]])"
            ]
          },
          "metadata": {},
          "execution_count": 131
        }
      ],
      "source": [
        "test2 = test**2\n",
        "test2"
      ]
    },
    {
      "cell_type": "code",
      "execution_count": 132,
      "metadata": {
        "colab": {
          "base_uri": "https://localhost:8080/",
          "height": 0
        },
        "id": "b-ZWfy2QYZxl",
        "outputId": "11f9931b-2bc0-4cc4-c833-e8d9a7aef09c"
      },
      "outputs": [
        {
          "output_type": "stream",
          "name": "stdout",
          "text": [
            "[9 2 3] + [81  4  9] = [90  6 12]\n",
            "[4 3 3] + [16  9  9] = [20 12 12]\n",
            "[8 4 7] + [64 16 49] = [72 20 56]\n",
            "[7 1 8] + [49  1 64] = [56  2 72]\n"
          ]
        }
      ],
      "source": [
        "for i, j in zip(test, test2):\n",
        "    print(i,'+',j,'=',i+j)"
      ]
    },
    {
      "cell_type": "markdown",
      "metadata": {
        "id": "_lrnDJIIYZxl"
      },
      "source": [
        "# TODO: PRACTICE EXERCISES\n",
        "\n",
        "\n",
        "Please fill in your answers in the following code and text cells, <u>including comments</u> as needed. The area to enter your answers is indicated by ellipses (`...`) below. For all code developed, please be sure to add <u>explanatory comments</u> to encapsulate your understanding.\n",
        "\n",
        "Then, please submit both the `.ipynb` file and the `.pdf` file, as per the Submission Instructions below."
      ]
    },
    {
      "cell_type": "code",
      "execution_count": 133,
      "metadata": {
        "id": "6oDbD5J0YZxl",
        "colab": {
          "base_uri": "https://localhost:8080/",
          "height": 0
        },
        "outputId": "8253ea66-7cb9-4c87-8676-7c50cd00e6a0"
      },
      "outputs": [
        {
          "output_type": "execute_result",
          "data": {
            "text/plain": [
              "Ellipsis"
            ]
          },
          "metadata": {},
          "execution_count": 133
        }
      ],
      "source": [
        "..."
      ]
    },
    {
      "cell_type": "markdown",
      "metadata": {
        "id": "p6KLRCDyYZxl"
      },
      "source": [
        "## Exercise 1\n",
        "\n",
        "Write and run a Python program that asks the user for a temperature in Celsius and converts and outputs the temperature in Fahrenheit.  (Use the formula given in the example above and solve for `tempF` in terms of `tempC`.)"
      ]
    },
    {
      "cell_type": "code",
      "source": [
        "9/5"
      ],
      "metadata": {
        "colab": {
          "base_uri": "https://localhost:8080/",
          "height": 0
        },
        "id": "vSOMhdEgvCqN",
        "outputId": "00f13c94-8d27-44f4-e2e2-bb2848f76fbc"
      },
      "execution_count": 134,
      "outputs": [
        {
          "output_type": "execute_result",
          "data": {
            "text/plain": [
              "1.80"
            ]
          },
          "metadata": {},
          "execution_count": 134
        }
      ]
    },
    {
      "cell_type": "code",
      "execution_count": 135,
      "metadata": {
        "colab": {
          "base_uri": "https://localhost:8080/",
          "height": 0
        },
        "id": "MDMZBUiWYZxl",
        "outputId": "abcec20e-df19-4bea-8c5b-364799a21522"
      },
      "outputs": [
        {
          "name": "stdout",
          "output_type": "stream",
          "text": [
            "Enter the temprature in Celcius: 12\n"
          ]
        },
        {
          "output_type": "execute_result",
          "data": {
            "text/plain": [
              "53.60"
            ]
          },
          "metadata": {},
          "execution_count": 135
        }
      ],
      "source": [
        "def celsius_to_fahrenheit():\n",
        "    tempC = input(\"Enter the temprature in Celcius: \") #Asking user to input temp\n",
        "    tempF = (float(tempC) *(9/5)) +32 #equation from celecius to farenheit\n",
        "    return tempF #return value\n",
        "\n",
        "celsius_to_fahrenheit() #call function"
      ]
    },
    {
      "cell_type": "markdown",
      "metadata": {
        "id": "rIsT-E-uYZxl"
      },
      "source": [
        "## Exercise 2\n",
        "\n",
        "Here is an algorithm to print out n! (n factorial) from 0! to 19!:"
      ]
    },
    {
      "cell_type": "code",
      "execution_count": null,
      "metadata": {
        "id": "O0RTmQGJYZxl",
        "colab": {
          "base_uri": "https://localhost:8080/",
          "height": 108
        },
        "outputId": "48ef9645-4a47-4663-f134-59bc28526d4e"
      },
      "outputs": [
        {
          "output_type": "error",
          "ename": "SyntaxError",
          "evalue": "invalid syntax (<ipython-input-190-15bce18d617f>, line 1)",
          "traceback": [
            "\u001b[0;36m  File \u001b[0;32m\"<ipython-input-190-15bce18d617f>\"\u001b[0;36m, line \u001b[0;32m1\u001b[0m\n\u001b[0;31m    1. Set f = 1\u001b[0m\n\u001b[0m       ^\u001b[0m\n\u001b[0;31mSyntaxError\u001b[0m\u001b[0;31m:\u001b[0m invalid syntax\n"
          ]
        }
      ],
      "source": [
        "1. Set f = 1\n",
        "2. Set n = 0\n",
        "3. Repeat the following 20 times: # range(20) will repeate 20 times although range(1,20) will also work with 1 fewer runs due to the base case\n",
        "   a. Output n, \"! = \", f\n",
        "   b. Add 1 to n\n",
        "   c. Multiply f by n"
      ]
    },
    {
      "cell_type": "markdown",
      "metadata": {
        "id": "EPCTtvuBYZxl"
      },
      "source": [
        "Using a `for` loop, write and run a Python program for this algorithm."
      ]
    },
    {
      "cell_type": "code",
      "execution_count": 136,
      "metadata": {
        "colab": {
          "base_uri": "https://localhost:8080/",
          "height": 0
        },
        "id": "GzvBg4sbYZxm",
        "outputId": "1865e950-ad20-4b35-8980-45d1f613e246"
      },
      "outputs": [
        {
          "output_type": "stream",
          "name": "stdout",
          "text": [
            "0 != 1\n",
            "1 != 1\n",
            "2 != 2\n",
            "3 != 6\n",
            "4 != 24\n",
            "5 != 120\n",
            "6 != 720\n",
            "7 != 5040\n",
            "8 != 40320\n",
            "9 != 362880\n",
            "10 != 3628800\n",
            "11 != 39916800\n",
            "12 != 479001600\n",
            "13 != 6227020800\n",
            "14 != 87178291200\n",
            "15 != 1307674368000\n",
            "16 != 20922789888000\n",
            "17 != 355687428096000\n",
            "18 != 6402373705728000\n",
            "19 != 121645100408832000\n"
          ]
        }
      ],
      "source": [
        "f=1\n",
        "n=0\n",
        "for i in range(20):\n",
        "  print(n,\"!=\", f)\n",
        "  n=n+1\n",
        "  f=f*n\n"
      ]
    },
    {
      "cell_type": "markdown",
      "metadata": {
        "id": "OFZgLvCrYZxm"
      },
      "source": [
        "## Exercise 3\n",
        "\n",
        "Modify the program above using a `while` loop so it prints out all of the factorial values that are _less than 1 billion_. (You should be able to do this without looking at the output of the previous exercise.)"
      ]
    },
    {
      "cell_type": "code",
      "execution_count": 137,
      "metadata": {
        "colab": {
          "base_uri": "https://localhost:8080/",
          "height": 0
        },
        "id": "OBs8q4LsYZxm",
        "outputId": "fb1bea9e-a53f-4c00-e348-843bc5ea0c25"
      },
      "outputs": [
        {
          "output_type": "stream",
          "name": "stdout",
          "text": [
            "0 != 1\n",
            "1 != 1\n",
            "2 != 2\n",
            "3 != 6\n",
            "4 != 24\n",
            "5 != 120\n",
            "6 != 720\n",
            "7 != 5040\n",
            "8 != 40320\n",
            "9 != 362880\n",
            "10 != 3628800\n",
            "11 != 39916800\n",
            "12 != 479001600\n"
          ]
        }
      ],
      "source": [
        "f=1\n",
        "n=0\n",
        "\n",
        "while f<int(1e9):\n",
        "  print(n,\"!=\", f)\n",
        "  n=n+1\n",
        "  f=f*n"
      ]
    },
    {
      "cell_type": "markdown",
      "metadata": {
        "id": "ii-WpTxPYZxm"
      },
      "source": [
        "## Exercise 4\n",
        "\n",
        "Repeat #3 above using list comprehensions. Please see these increasingly more sophisticated references for list comprehensions:\n",
        "\n",
        "* [Simple](http://www.pythonforbeginners.com/basics/list-comprehensions-in-python)\n",
        "* [Advanced](https://web.archive.org/web/20171126231647/http://www.secnetix.de/olli/Python/list_comprehensions.hawk)\n",
        "* [Complex](http://www.python-course.eu/list_comprehension.php) (has a hint for this problem).\n",
        "\n"
      ]
    },
    {
      "cell_type": "code",
      "execution_count": 138,
      "metadata": {
        "colab": {
          "base_uri": "https://localhost:8080/",
          "height": 0
        },
        "id": "-M_0RcStYZxm",
        "outputId": "3a8f33f6-6be0-405a-924e-a24561186b79"
      },
      "outputs": [
        {
          "output_type": "stream",
          "name": "stdout",
          "text": [
            "[1, 1, 2, 6, 24, 120, 720, 5040, 40320, 362880, 3628800, 39916800, 479001600]\n"
          ]
        }
      ],
      "source": [
        "import math\n",
        "print([math.factorial(i) for i in range(13)])"
      ]
    },
    {
      "cell_type": "markdown",
      "metadata": {
        "id": "y5OQbqEwYZxm"
      },
      "source": [
        "## Exercise 5\n",
        "\n",
        "Suppose you have a dictionary of dictionaries, or a 2D dictionary, called `banditos` as follows:"
      ]
    },
    {
      "cell_type": "code",
      "execution_count": 139,
      "metadata": {
        "id": "Qu6aW4pWYZxm"
      },
      "outputs": [],
      "source": [
        "alonzo = {\"age\": 10, \"height\": 42, \"weight\": 175, \"instrument\":\"fiddle\" }\n",
        "turing = {\"age\": 41, \"height\": 70, \"weight\": 160, \"instrument\":\"theremin\"}\n",
        "bertha = {\"age\": 32, \"height\": 97, \"weight\": 587, \"instrument\":\"cello\"}\n",
        "tinkerB = {\"age\":100, \"height\": 4, \"weight\": 0.5, \"instrument\":\"cello\"}\n",
        "banditos = {\"Alonzo\": alonzo, \"Turing\": turing, \"Bertha\": bertha, \"TinkerB\": tinkerB}\n"
      ]
    },
    {
      "cell_type": "markdown",
      "metadata": {
        "id": "P8u9FM20YZxm"
      },
      "source": [
        "We can access the sub-dictionary, or vector, of Alonzo's attributes as follows:"
      ]
    },
    {
      "cell_type": "code",
      "execution_count": 140,
      "metadata": {
        "colab": {
          "base_uri": "https://localhost:8080/",
          "height": 0
        },
        "id": "vojsWOmPYZxm",
        "outputId": "fde9a08e-63ed-4a4e-ae69-6bcc25b6281b"
      },
      "outputs": [
        {
          "output_type": "execute_result",
          "data": {
            "text/plain": [
              "{'age': 10, 'height': 42, 'weight': 175, 'instrument': 'fiddle'}"
            ]
          },
          "metadata": {},
          "execution_count": 140
        }
      ],
      "source": [
        "banditos[\"Alonzo\"]\n"
      ]
    },
    {
      "cell_type": "markdown",
      "metadata": {
        "id": "iCurQRDrYZxm"
      },
      "source": [
        "We can also return a specific feature of Alonzo's as:"
      ]
    },
    {
      "cell_type": "code",
      "execution_count": 141,
      "metadata": {
        "colab": {
          "base_uri": "https://localhost:8080/",
          "height": 0
        },
        "id": "YhRMSNLQYZxm",
        "outputId": "dca3ddac-2891-488c-9211-9e9d154e85ef"
      },
      "outputs": [
        {
          "output_type": "execute_result",
          "data": {
            "text/plain": [
              "10"
            ]
          },
          "metadata": {},
          "execution_count": 141
        }
      ],
      "source": [
        "banditos[\"Alonzo\"][\"age\"]\n"
      ]
    },
    {
      "cell_type": "markdown",
      "metadata": {
        "id": "iM7P8QYuYZxm"
      },
      "source": [
        "For the above dictionary, `banditos`, write a function that, when given the dictionary, returns a list of users who play a certain instrument. E.g., here's a sample run and its result:"
      ]
    },
    {
      "cell_type": "code",
      "execution_count": 142,
      "metadata": {
        "colab": {
          "base_uri": "https://localhost:8080/",
          "height": 106
        },
        "id": "12VIhO2YYZxm",
        "outputId": "08292c21-1091-470b-dc6a-f2b3edb0321c"
      },
      "outputs": [
        {
          "output_type": "error",
          "ename": "IndentationError",
          "evalue": "unexpected indent (<ipython-input-142-af771284af7e>, line 3)",
          "traceback": [
            "\u001b[0;36m  File \u001b[0;32m\"<ipython-input-142-af771284af7e>\"\u001b[0;36m, line \u001b[0;32m3\u001b[0m\n\u001b[0;31m    ['Bertha', 'TinkerB']\u001b[0m\n\u001b[0m    ^\u001b[0m\n\u001b[0;31mIndentationError\u001b[0m\u001b[0;31m:\u001b[0m unexpected indent\n"
          ]
        }
      ],
      "source": [
        "Bind_players(banditos, \"cello\")\n",
        "\n",
        "  ['Bertha', 'TinkerB']"
      ]
    },
    {
      "cell_type": "code",
      "execution_count": 143,
      "metadata": {
        "id": "0X5A0nJaYZxm",
        "colab": {
          "base_uri": "https://localhost:8080/",
          "height": 0
        },
        "outputId": "5cfc4bac-9e1f-46b3-a8f5-7bcb73e46c7b"
      },
      "outputs": [
        {
          "output_type": "stream",
          "name": "stdout",
          "text": [
            "['Bertha', 'TinkerB']\n"
          ]
        }
      ],
      "source": [
        "def Bind_players(dictionary,instrument):\n",
        "  a=[]\n",
        "  for keys in dictionary:\n",
        "    if dictionary[keys]['instrument']==instrument:\n",
        "      a.append((keys))\n",
        "  return a\n",
        "\n",
        "print(Bind_players(banditos, \"cello\"))\n"
      ]
    },
    {
      "cell_type": "markdown",
      "metadata": {
        "id": "5iaNL_6XYZxm"
      },
      "source": [
        "# Submission Instructions\n",
        "\n",
        "Once you have filled out the Colab notebook completely, you are ready to submit. Your final submission will consist of the `.ipynb` and the `.pdf` files, as described below:\n",
        "\n",
        "1. Download the Google Colab notebook as an iPython notebook\n",
        "   * You can do this by going to *File \\> Download .ipynb*\n",
        "2. Print out a PDF of your Colab notebook.\n",
        "   * In Google Chrome, you can do this by going to *File \\> Print* and then\n",
        "choosing *Save to PDF*.\n",
        "   * **Make sure you have run all cells first.**\n",
        "   * Ensure you've closed the table of contents sidebar before you print so we can easily see your work and output.\n",
        "3. Submit **both** the `.ipynb` notebook and the `.pdf` files via Blackboard or directly via the cloud using the Google Integration with Blackboard (if applicable).\n",
        "\n",
        "---"
      ]
    }
  ],
  "metadata": {
    "language_info": {
      "name": "python"
    },
    "colab": {
      "provenance": [],
      "include_colab_link": true
    },
    "kernelspec": {
      "name": "python3",
      "display_name": "Python 3"
    }
  },
  "nbformat": 4,
  "nbformat_minor": 0
}